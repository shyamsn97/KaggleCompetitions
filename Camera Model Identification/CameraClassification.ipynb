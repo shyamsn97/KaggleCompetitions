{
 "cells": [
  {
   "cell_type": "markdown",
   "metadata": {},
   "source": [
    "# Camera Identification"
   ]
  },
  {
   "cell_type": "code",
   "execution_count": 1,
   "metadata": {},
   "outputs": [
    {
     "name": "stderr",
     "output_type": "stream",
     "text": [
      "Using TensorFlow backend.\n"
     ]
    }
   ],
   "source": [
    "import numpy as np\n",
    "import pandas as pd\n",
    "import tensorflow as tf\n",
    "from keras import *\n",
    "from keras.layers import *\n",
    "from keras import backend as K\n",
    "from keras.utils.vis_utils import plot_model\n",
    "import pydot\n",
    "import graphviz\n",
    "import PIL\n",
    "import cv2\n",
    "import glob\n",
    "import os"
   ]
  },
  {
   "cell_type": "markdown",
   "metadata": {},
   "source": [
    "Read in data"
   ]
  },
  {
   "cell_type": "code",
   "execution_count": 2,
   "metadata": {},
   "outputs": [],
   "source": [
    "def read(img):\n",
    "    return np.asfarray(PIL.Image.open(img))"
   ]
  },
  {
   "cell_type": "code",
   "execution_count": 3,
   "metadata": {},
   "outputs": [],
   "source": [
    "input_path = 'data'\n",
    "train_path = input_path + '/' + 'train' + '/'\n",
    "test_path = input_path + '/' + 'test' + '/'\n",
    "labels = os.listdir(train_path)"
   ]
  },
  {
   "cell_type": "code",
   "execution_count": 4,
   "metadata": {},
   "outputs": [
    {
     "name": "stdout",
     "output_type": "stream",
     "text": [
      "['Motorola-Nexus-6', 'Sony-NEX-7', 'Motorola-X', 'HTC-1-M7', 'LG-Nexus-5x', 'Motorola-Droid-Maxx', 'iPhone-4s', 'Samsung-Galaxy-S4', 'iPhone-6', 'Samsung-Galaxy-Note3']\n"
     ]
    }
   ],
   "source": [
    "print labels"
   ]
  },
  {
   "cell_type": "code",
   "execution_count": 33,
   "metadata": {},
   "outputs": [],
   "source": [
    "\n",
    "def gettraining(labels,path):\n",
    "    trainlabels = []\n",
    "    for l in labels:\n",
    "        for i in os.listdir(path + l + '/'):\n",
    "            trainlabels.append((path + l + '/'+ str(i),l))\n",
    "\n",
    "    train = pd.DataFrame(trainlabels, columns=['camera', 'name'])\n",
    "    return train\n",
    "\n",
    "def gettest(path):\n",
    "    test = []\n",
    "    ids = []\n",
    "    for i in os.listdir(path):\n",
    "        test.append(path + i)\n",
    "        ids.append(i)\n",
    "    return test, ids\n",
    "train = gettraining(labels,train_path)\n",
    "test, ids = gettest(test_path)"
   ]
  },
  {
   "cell_type": "code",
   "execution_count": 6,
   "metadata": {},
   "outputs": [
    {
     "data": {
      "text/html": [
       "<div>\n",
       "<style>\n",
       "    .dataframe thead tr:only-child th {\n",
       "        text-align: right;\n",
       "    }\n",
       "\n",
       "    .dataframe thead th {\n",
       "        text-align: left;\n",
       "    }\n",
       "\n",
       "    .dataframe tbody tr th {\n",
       "        vertical-align: top;\n",
       "    }\n",
       "</style>\n",
       "<table border=\"1\" class=\"dataframe\">\n",
       "  <thead>\n",
       "    <tr style=\"text-align: right;\">\n",
       "      <th></th>\n",
       "      <th>camera</th>\n",
       "      <th>name</th>\n",
       "    </tr>\n",
       "  </thead>\n",
       "  <tbody>\n",
       "    <tr>\n",
       "      <th>0</th>\n",
       "      <td>data/train/Motorola-Nexus-6/(MotoNex6)40.jpg</td>\n",
       "      <td>Motorola-Nexus-6</td>\n",
       "    </tr>\n",
       "    <tr>\n",
       "      <th>1</th>\n",
       "      <td>data/train/Motorola-Nexus-6/(MotoNex6)143.jpg</td>\n",
       "      <td>Motorola-Nexus-6</td>\n",
       "    </tr>\n",
       "    <tr>\n",
       "      <th>2</th>\n",
       "      <td>data/train/Motorola-Nexus-6/(MotoNex6)202.jpg</td>\n",
       "      <td>Motorola-Nexus-6</td>\n",
       "    </tr>\n",
       "    <tr>\n",
       "      <th>3</th>\n",
       "      <td>data/train/Motorola-Nexus-6/(MotoNex6)80.jpg</td>\n",
       "      <td>Motorola-Nexus-6</td>\n",
       "    </tr>\n",
       "    <tr>\n",
       "      <th>4</th>\n",
       "      <td>data/train/Motorola-Nexus-6/(MotoNex6)39.jpg</td>\n",
       "      <td>Motorola-Nexus-6</td>\n",
       "    </tr>\n",
       "  </tbody>\n",
       "</table>\n",
       "</div>"
      ],
      "text/plain": [
       "                                          camera              name\n",
       "0   data/train/Motorola-Nexus-6/(MotoNex6)40.jpg  Motorola-Nexus-6\n",
       "1  data/train/Motorola-Nexus-6/(MotoNex6)143.jpg  Motorola-Nexus-6\n",
       "2  data/train/Motorola-Nexus-6/(MotoNex6)202.jpg  Motorola-Nexus-6\n",
       "3   data/train/Motorola-Nexus-6/(MotoNex6)80.jpg  Motorola-Nexus-6\n",
       "4   data/train/Motorola-Nexus-6/(MotoNex6)39.jpg  Motorola-Nexus-6"
      ]
     },
     "execution_count": 6,
     "metadata": {},
     "output_type": "execute_result"
    }
   ],
   "source": [
    "train.head(5)"
   ]
  },
  {
   "cell_type": "code",
   "execution_count": 7,
   "metadata": {},
   "outputs": [
    {
     "data": {
      "text/plain": [
       "['data/test/img_00d0e3b_unalt.tif',\n",
       " 'data/test/img_c6839e4_manip.tif',\n",
       " 'data/test/img_b25b81e_unalt.tif',\n",
       " 'data/test/img_c944786_manip.tif',\n",
       " 'data/test/img_2cc6262_unalt.tif']"
      ]
     },
     "execution_count": 7,
     "metadata": {},
     "output_type": "execute_result"
    }
   ],
   "source": [
    "test[0:5]"
   ]
  },
  {
   "cell_type": "code",
   "execution_count": 8,
   "metadata": {},
   "outputs": [],
   "source": [
    "image = train[\"camera\"][0]\n",
    "img = cv2.imread(str(image),0)"
   ]
  },
  {
   "cell_type": "code",
   "execution_count": 9,
   "metadata": {},
   "outputs": [
    {
     "name": "stdout",
     "output_type": "stream",
     "text": [
      "[[162 161 162 ...,  63  70  69]\n",
      " [162 162 162 ...,  71  76  75]\n",
      " [163 162 162 ...,  82  84  85]\n",
      " ..., \n",
      " [ 44  44  44 ...,   6   6   5]\n",
      " [ 43  44  45 ...,   6   6   5]\n",
      " [ 41  43  45 ...,   5   5   5]]\n"
     ]
    }
   ],
   "source": [
    "print img"
   ]
  },
  {
   "cell_type": "code",
   "execution_count": 10,
   "metadata": {},
   "outputs": [
    {
     "data": {
      "text/plain": [
       "(3120, 4160)"
      ]
     },
     "execution_count": 10,
     "metadata": {},
     "output_type": "execute_result"
    }
   ],
   "source": [
    "img.shape"
   ]
  },
  {
   "cell_type": "code",
   "execution_count": 11,
   "metadata": {},
   "outputs": [],
   "source": [
    "resized_image = np.asfarray(cv2.resize(img, (32, 32)))\n",
    "#cv2.imshow('image',img)"
   ]
  },
  {
   "cell_type": "markdown",
   "metadata": {},
   "source": [
    "Lets flatten the image and divide by the max value(255) and flatten it into a 1d vector, so we can input it into a model"
   ]
  },
  {
   "cell_type": "code",
   "execution_count": 12,
   "metadata": {
    "scrolled": false
   },
   "outputs": [],
   "source": [
    "resized = resized_image.flatten()/255.0"
   ]
  },
  {
   "cell_type": "code",
   "execution_count": 13,
   "metadata": {},
   "outputs": [
    {
     "data": {
      "text/plain": [
       "(1024,)"
      ]
     },
     "execution_count": 13,
     "metadata": {},
     "output_type": "execute_result"
    }
   ],
   "source": [
    "print resized.shape"
   ]
  },
  {
   "cell_type": "markdown",
   "metadata": {},
   "source": [
    "Do the rest for the other pictures"
   ]
  },
  {
   "cell_type": "code",
   "execution_count": 14,
   "metadata": {},
   "outputs": [],
   "source": [
    "Xtrain = train[\"camera\"]\n",
    "y = train[\"name\"]\n"
   ]
  },
  {
   "cell_type": "code",
   "execution_count": 15,
   "metadata": {},
   "outputs": [],
   "source": [
    "def preprocess(path):\n",
    "    img = cv2.imread(path,0)\n",
    "    img = np.asfarray(cv2.resize(img,(32, 32)))\n",
    "    return img.flatten()/255.0\n",
    "\n",
    "def processbulk(paths):\n",
    "    return np.asfarray([preprocess(filepath) for filepath in paths])\n",
    "\n",
    "X_train = processbulk(Xtrain[0:5])\n",
    "\n",
    "def label_transform(labels):\n",
    "    labels = pd.get_dummies(pd.Series(labels))\n",
    "    label_index = labels.columns.values\n",
    "    \n",
    "    return labels, label_index"
   ]
  },
  {
   "cell_type": "code",
   "execution_count": 16,
   "metadata": {},
   "outputs": [],
   "source": [
    "X_train = processbulk(Xtrain)\n",
    "X_test = processbulk(test)"
   ]
  },
  {
   "cell_type": "code",
   "execution_count": 17,
   "metadata": {},
   "outputs": [],
   "source": [
    "y = label_transform(y)"
   ]
  },
  {
   "cell_type": "code",
   "execution_count": 18,
   "metadata": {},
   "outputs": [],
   "source": [
    "y = np.array(y[0])"
   ]
  },
  {
   "cell_type": "code",
   "execution_count": 40,
   "metadata": {},
   "outputs": [
    {
     "name": "stdout",
     "output_type": "stream",
     "text": [
      "[[0 0 0 ..., 0 0 0]\n",
      " [0 0 0 ..., 0 0 0]\n",
      " [0 0 0 ..., 0 0 0]\n",
      " ..., \n",
      " [0 0 0 ..., 0 0 0]\n",
      " [0 0 0 ..., 0 0 0]\n",
      " [0 0 0 ..., 0 0 0]]\n"
     ]
    }
   ],
   "source": [
    "print y"
   ]
  },
  {
   "cell_type": "markdown",
   "metadata": {},
   "source": [
    "## Multi Channel Convolutional Neural Network\n",
    "Because the images probably have minor details, we want to use a convolutional neural network with multiple kernal sizes to account for local dependencies in the images."
   ]
  },
  {
   "cell_type": "markdown",
   "metadata": {},
   "source": [
    "Here we will input the flattened version of grayscale images into a multichannel convolutional neural network, with kernal size of 12,24, and 36 and 32 filters each."
   ]
  },
  {
   "cell_type": "code",
   "execution_count": 39,
   "metadata": {},
   "outputs": [],
   "source": [
    "class MultiChannelCNN:\n",
    "    \n",
    "    saved = 0\n",
    "    \n",
    "    def __init__(self, X,y,models=[]):\n",
    "        self.X = np.expand_dims(X, axis=2) #need to add an extra column, 1d convolution needs to \"slide\" accross\n",
    "        self.y = y\n",
    "        self.models = models\n",
    "        \n",
    "    #channels is an integer, number of channels\n",
    "    #kernel size is a list of dimensions for the kernels\n",
    "    def createmodel(self,channels,kernel_size,num_filters):\n",
    "        \n",
    "        K.clear_session()\n",
    "\n",
    "        inputlayers = {}\n",
    "        layers = {}\n",
    "        flats = {}\n",
    "        length = self.X.shape[1]\n",
    "        for i in range(channels):\n",
    "            print i\n",
    "            inputlayers[\"input\"+ str(i)] = Input(shape=(length,1))\n",
    "            print inputlayers[\"input\"+str(i)]\n",
    "            layers[\"conv\" + str(i)] = Conv1D(filters=num_filters,input_shape=(length, 1), kernel_size=kernel_size[i], activation='relu')(inputlayers[\"input\" + str(i)])\n",
    "            layers[\"dropout\" + str(i)] =  Dropout(0.5)(layers[\"conv\" + str(i)])\n",
    "            layers[\"pool\" + str(i)] = MaxPooling1D(pool_size=4)(layers[\"dropout\" + str(i)])\n",
    "            flats[\"flat\" + str(i)] = Flatten()(layers[\"pool\" + str(i)])\n",
    "        \n",
    "        merge = concatenate(list(flats.values()))\n",
    "        dense = Dense(10, activation='relu')(merge)\n",
    "        outputs = Dense(10, activation='sigmoid')(dense)\n",
    "        model = Model(inputs=list(inputlayers.values()), outputs=outputs)\n",
    "        model.compile(loss='categorical_crossentropy', optimizer='adam', metrics=['accuracy'])\n",
    "        print(model.summary())\n",
    "        self.models.append(model)\n",
    "    \n",
    "    #train using custom params\n",
    "    def train(self,model,epochs,channels,batch_size):\n",
    "        \n",
    "        inp = []\n",
    "        for i in range(channels):\n",
    "            inp.append(self.X)\n",
    "        \n",
    "#         model.fit(inp, self.y,validation_split=0.1, epochs=epochs, batch_size=batch_size,verbose=1)\n",
    "        model.fit(inp, self.y,validation_split=0.1, epochs=epochs,verbose=1)\n",
    "\n",
    "        \n",
    "        if MultiChannelCNN.saved < 1:\n",
    "            model.save('multichannelcnn.h5')\n",
    "        else:\n",
    "            print(\"Already Saved\")\n",
    "        loss, acc = model.evaluate([self.X,self.X,self.X], self.y, verbose=0)\n",
    "        print('Train Accuracy: %f' % (acc*100))\n",
    "        \n",
    "        return model\n",
    "    \n",
    "    #predict\n",
    "    def predict(self,model,data):\n",
    "        \n",
    "        #model = load_model('multichannelcnn.h5')\n",
    "\n",
    "        predicts = model.predict(data)\n",
    "\n",
    "        return predicts \n",
    "        "
   ]
  },
  {
   "cell_type": "code",
   "execution_count": 24,
   "metadata": {
    "scrolled": true
   },
   "outputs": [
    {
     "name": "stdout",
     "output_type": "stream",
     "text": [
      "0\n",
      "Tensor(\"input_1:0\", shape=(?, 1024, 1), dtype=float32)\n",
      "1\n",
      "Tensor(\"input_2:0\", shape=(?, 1024, 1), dtype=float32)\n",
      "2\n",
      "Tensor(\"input_3:0\", shape=(?, 1024, 1), dtype=float32)\n",
      "__________________________________________________________________________________________________\n",
      "Layer (type)                    Output Shape         Param #     Connected to                     \n",
      "==================================================================================================\n",
      "input_3 (InputLayer)            (None, 1024, 1)      0                                            \n",
      "__________________________________________________________________________________________________\n",
      "input_1 (InputLayer)            (None, 1024, 1)      0                                            \n",
      "__________________________________________________________________________________________________\n",
      "input_2 (InputLayer)            (None, 1024, 1)      0                                            \n",
      "__________________________________________________________________________________________________\n",
      "conv1d_3 (Conv1D)               (None, 989, 32)      1184        input_3[0][0]                    \n",
      "__________________________________________________________________________________________________\n",
      "conv1d_1 (Conv1D)               (None, 1013, 32)     416         input_1[0][0]                    \n",
      "__________________________________________________________________________________________________\n",
      "conv1d_2 (Conv1D)               (None, 1001, 32)     800         input_2[0][0]                    \n",
      "__________________________________________________________________________________________________\n",
      "dropout_3 (Dropout)             (None, 989, 32)      0           conv1d_3[0][0]                   \n",
      "__________________________________________________________________________________________________\n",
      "dropout_1 (Dropout)             (None, 1013, 32)     0           conv1d_1[0][0]                   \n",
      "__________________________________________________________________________________________________\n",
      "dropout_2 (Dropout)             (None, 1001, 32)     0           conv1d_2[0][0]                   \n",
      "__________________________________________________________________________________________________\n",
      "max_pooling1d_3 (MaxPooling1D)  (None, 247, 32)      0           dropout_3[0][0]                  \n",
      "__________________________________________________________________________________________________\n",
      "max_pooling1d_1 (MaxPooling1D)  (None, 253, 32)      0           dropout_1[0][0]                  \n",
      "__________________________________________________________________________________________________\n",
      "max_pooling1d_2 (MaxPooling1D)  (None, 250, 32)      0           dropout_2[0][0]                  \n",
      "__________________________________________________________________________________________________\n",
      "flatten_3 (Flatten)             (None, 7904)         0           max_pooling1d_3[0][0]            \n",
      "__________________________________________________________________________________________________\n",
      "flatten_1 (Flatten)             (None, 8096)         0           max_pooling1d_1[0][0]            \n",
      "__________________________________________________________________________________________________\n",
      "flatten_2 (Flatten)             (None, 8000)         0           max_pooling1d_2[0][0]            \n",
      "__________________________________________________________________________________________________\n",
      "concatenate_1 (Concatenate)     (None, 24000)        0           flatten_3[0][0]                  \n",
      "                                                                 flatten_1[0][0]                  \n",
      "                                                                 flatten_2[0][0]                  \n",
      "__________________________________________________________________________________________________\n",
      "dense_1 (Dense)                 (None, 10)           240010      concatenate_1[0][0]              \n",
      "__________________________________________________________________________________________________\n",
      "dense_2 (Dense)                 (None, 10)           110         dense_1[0][0]                    \n",
      "==================================================================================================\n",
      "Total params: 242,520\n",
      "Trainable params: 242,520\n",
      "Non-trainable params: 0\n",
      "__________________________________________________________________________________________________\n",
      "None\n"
     ]
    }
   ],
   "source": [
    "mcnn = MultiChannelCNN(X_train,y)\n",
    "mcnn.createmodel(3,[12,24,36],32)"
   ]
  },
  {
   "cell_type": "code",
   "execution_count": 25,
   "metadata": {},
   "outputs": [
    {
     "name": "stdout",
     "output_type": "stream",
     "text": [
      "Train on 2475 samples, validate on 275 samples\n",
      "Epoch 1/3\n",
      "2475/2475 [==============================] - 19s 8ms/step - loss: 2.2710 - acc: 0.1127 - val_loss: 2.9716 - val_acc: 0.0000e+00\n",
      "Epoch 2/3\n",
      "2475/2475 [==============================] - 20s 8ms/step - loss: 2.2205 - acc: 0.1390 - val_loss: 2.9755 - val_acc: 0.0000e+00\n",
      "Epoch 3/3\n",
      "2475/2475 [==============================] - 19s 8ms/step - loss: 2.1824 - acc: 0.1499 - val_loss: 3.6587 - val_acc: 0.0000e+00\n",
      "Train Accuracy: 13.781818\n"
     ]
    }
   ],
   "source": [
    "mcnn.models[0] = mcnn.train(mcnn.models[0],3,3,1)"
   ]
  },
  {
   "cell_type": "code",
   "execution_count": 26,
   "metadata": {},
   "outputs": [
    {
     "name": "stdout",
     "output_type": "stream",
     "text": [
      "[<keras.engine.training.Model object at 0x7feef4f42d90>]\n"
     ]
    }
   ],
   "source": [
    "print mcnn.models"
   ]
  },
  {
   "cell_type": "code",
   "execution_count": 27,
   "metadata": {},
   "outputs": [],
   "source": [
    "newtest = np.expand_dims(X_test, axis=2)\n",
    "out = mcnn.predict(mcnn.models[0],[newtest,newtest,newtest])"
   ]
  },
  {
   "cell_type": "code",
   "execution_count": 28,
   "metadata": {},
   "outputs": [
    {
     "data": {
      "text/plain": [
       "array([[ 0.63529412,  0.67843137,  0.99607843, ...,  0.56862745,\n",
       "         0.53333333,  0.56470588],\n",
       "       [ 0.41176471,  0.2745098 ,  0.22745098, ...,  0.36078431,\n",
       "         0.34901961,  0.30196078],\n",
       "       [ 0.25490196,  0.20392157,  0.19215686, ...,  0.09411765,\n",
       "         0.07843137,  0.08235294],\n",
       "       ..., \n",
       "       [ 0.94509804,  0.94509804,  0.94509804, ...,  0.63137255,\n",
       "         0.61568627,  0.61176471],\n",
       "       [ 0.83137255,  0.83137255,  0.8       , ...,  0.34117647,\n",
       "         0.34901961,  0.48235294],\n",
       "       [ 0.15294118,  0.15686275,  0.14901961, ...,  0.20392157,\n",
       "         0.18039216,  0.18039216]])"
      ]
     },
     "execution_count": 28,
     "metadata": {},
     "output_type": "execute_result"
    }
   ],
   "source": [
    "print X_test"
   ]
  },
  {
   "cell_type": "code",
   "execution_count": 29,
   "metadata": {},
   "outputs": [
    {
     "data": {
      "text/plain": [
       "array([[ 0.3888211 ,  0.19045559,  0.20177774, ...,  0.36421365,\n",
       "         0.31689966,  0.61973965],\n",
       "       [ 0.47084528,  0.38578287,  0.37158355, ...,  0.45565501,\n",
       "         0.43095353,  0.54299384],\n",
       "       [ 0.51545525,  0.5219835 ,  0.50094211, ...,  0.51122487,\n",
       "         0.5077641 ,  0.49633321],\n",
       "       ..., \n",
       "       [ 0.44389102,  0.27445266,  0.21768001, ...,  0.39397815,\n",
       "         0.32377276,  0.59678173],\n",
       "       [ 0.49460456,  0.40248632,  0.30740657, ...,  0.44680113,\n",
       "         0.38470557,  0.55284375],\n",
       "       [ 0.360324  ,  0.26334158,  0.56876397, ...,  0.45948571,\n",
       "         0.5700655 ,  0.53059053]], dtype=float32)"
      ]
     },
     "execution_count": 29,
     "metadata": {},
     "output_type": "execute_result"
    }
   ],
   "source": [
    "out"
   ]
  },
  {
   "cell_type": "code",
   "execution_count": 30,
   "metadata": {},
   "outputs": [],
   "source": [
    "out\n",
    "predict = np.argmax(out, axis=1)\n",
    "predict = [labels[p] for p in predict]"
   ]
  },
  {
   "cell_type": "code",
   "execution_count": 31,
   "metadata": {},
   "outputs": [
    {
     "name": "stdout",
     "output_type": "stream",
     "text": [
      "['HTC-1-M7', 'HTC-1-M7', 'Sony-NEX-7', 'HTC-1-M7', 'iPhone-4s', 'HTC-1-M7', 'iPhone-4s', 'HTC-1-M7', 'Motorola-X', 'HTC-1-M7', 'HTC-1-M7', 'Samsung-Galaxy-Note3', 'HTC-1-M7', 'iPhone-4s', 'HTC-1-M7', 'iPhone-4s', 'HTC-1-M7', 'HTC-1-M7', 'HTC-1-M7', 'HTC-1-M7', 'HTC-1-M7', 'HTC-1-M7', 'HTC-1-M7', 'iPhone-4s', 'iPhone-4s', 'HTC-1-M7', 'HTC-1-M7', 'HTC-1-M7', 'iPhone-4s', 'iPhone-4s', 'LG-Nexus-5x', 'HTC-1-M7', 'HTC-1-M7', 'iPhone-4s', 'HTC-1-M7', 'Motorola-Nexus-6', 'HTC-1-M7', 'Motorola-X', 'HTC-1-M7', 'HTC-1-M7', 'HTC-1-M7', 'HTC-1-M7', 'iPhone-4s', 'HTC-1-M7', 'HTC-1-M7', 'Motorola-X', 'iPhone-4s', 'HTC-1-M7', 'HTC-1-M7', 'iPhone-4s', 'iPhone-4s', 'HTC-1-M7', 'HTC-1-M7', 'Motorola-X', 'HTC-1-M7', 'HTC-1-M7', 'Motorola-X', 'HTC-1-M7', 'Motorola-X', 'HTC-1-M7', 'LG-Nexus-5x', 'HTC-1-M7', 'HTC-1-M7', 'iPhone-4s', 'HTC-1-M7', 'HTC-1-M7', 'HTC-1-M7', 'HTC-1-M7', 'HTC-1-M7', 'Motorola-X', 'iPhone-4s', 'LG-Nexus-5x', 'HTC-1-M7', 'HTC-1-M7', 'HTC-1-M7', 'iPhone-4s', 'HTC-1-M7', 'HTC-1-M7', 'HTC-1-M7', 'iPhone-4s', 'Motorola-X', 'HTC-1-M7', 'HTC-1-M7', 'HTC-1-M7', 'HTC-1-M7', 'HTC-1-M7', 'HTC-1-M7', 'iPhone-4s', 'iPhone-4s', 'HTC-1-M7', 'iPhone-4s', 'HTC-1-M7', 'iPhone-4s', 'HTC-1-M7', 'HTC-1-M7', 'HTC-1-M7', 'HTC-1-M7', 'iPhone-4s', 'iPhone-4s', 'iPhone-4s', 'HTC-1-M7', 'HTC-1-M7', 'iPhone-4s', 'iPhone-4s', 'Sony-NEX-7', 'iPhone-4s', 'LG-Nexus-5x', 'HTC-1-M7', 'HTC-1-M7', 'HTC-1-M7', 'iPhone-4s', 'iPhone-4s', 'HTC-1-M7', 'HTC-1-M7', 'HTC-1-M7', 'iPhone-4s', 'HTC-1-M7', 'HTC-1-M7', 'iPhone-4s', 'HTC-1-M7', 'iPhone-4s', 'LG-Nexus-5x', 'Samsung-Galaxy-Note3', 'HTC-1-M7', 'HTC-1-M7', 'HTC-1-M7', 'iPhone-4s', 'HTC-1-M7', 'HTC-1-M7', 'HTC-1-M7', 'HTC-1-M7', 'HTC-1-M7', 'HTC-1-M7', 'HTC-1-M7', 'iPhone-4s', 'iPhone-4s', 'iPhone-4s', 'HTC-1-M7', 'Motorola-Nexus-6', 'LG-Nexus-5x', 'LG-Nexus-5x', 'HTC-1-M7', 'HTC-1-M7', 'iPhone-4s', 'iPhone-4s', 'HTC-1-M7', 'Motorola-X', 'HTC-1-M7', 'iPhone-4s', 'HTC-1-M7', 'HTC-1-M7', 'HTC-1-M7', 'HTC-1-M7', 'iPhone-4s', 'HTC-1-M7', 'iPhone-4s', 'HTC-1-M7', 'HTC-1-M7', 'HTC-1-M7', 'HTC-1-M7', 'HTC-1-M7', 'HTC-1-M7', 'iPhone-4s', 'HTC-1-M7', 'iPhone-4s', 'HTC-1-M7', 'HTC-1-M7', 'HTC-1-M7', 'iPhone-4s', 'HTC-1-M7', 'LG-Nexus-5x', 'HTC-1-M7', 'HTC-1-M7', 'HTC-1-M7', 'HTC-1-M7', 'Motorola-X', 'HTC-1-M7', 'iPhone-4s', 'HTC-1-M7', 'HTC-1-M7', 'HTC-1-M7', 'HTC-1-M7', 'HTC-1-M7', 'HTC-1-M7', 'HTC-1-M7', 'iPhone-4s', 'HTC-1-M7', 'HTC-1-M7', 'iPhone-4s', 'HTC-1-M7', 'iPhone-4s', 'Motorola-X', 'HTC-1-M7', 'HTC-1-M7', 'Sony-NEX-7', 'HTC-1-M7', 'Samsung-Galaxy-Note3', 'HTC-1-M7', 'HTC-1-M7', 'HTC-1-M7', 'HTC-1-M7', 'HTC-1-M7', 'HTC-1-M7', 'HTC-1-M7', 'HTC-1-M7', 'HTC-1-M7', 'HTC-1-M7', 'HTC-1-M7', 'HTC-1-M7', 'HTC-1-M7', 'HTC-1-M7', 'HTC-1-M7', 'HTC-1-M7', 'HTC-1-M7', 'HTC-1-M7', 'HTC-1-M7', 'HTC-1-M7', 'HTC-1-M7', 'HTC-1-M7', 'iPhone-4s', 'HTC-1-M7', 'HTC-1-M7', 'Motorola-X', 'Motorola-Nexus-6', 'HTC-1-M7', 'HTC-1-M7', 'iPhone-4s', 'HTC-1-M7', 'HTC-1-M7', 'HTC-1-M7', 'HTC-1-M7', 'HTC-1-M7', 'HTC-1-M7', 'HTC-1-M7', 'HTC-1-M7', 'HTC-1-M7', 'HTC-1-M7', 'HTC-1-M7', 'HTC-1-M7', 'HTC-1-M7', 'iPhone-4s', 'iPhone-4s', 'HTC-1-M7', 'HTC-1-M7', 'iPhone-4s', 'LG-Nexus-5x', 'HTC-1-M7', 'HTC-1-M7', 'LG-Nexus-5x', 'HTC-1-M7', 'HTC-1-M7', 'iPhone-4s', 'HTC-1-M7', 'Motorola-X', 'iPhone-4s', 'HTC-1-M7', 'iPhone-4s', 'HTC-1-M7', 'HTC-1-M7', 'HTC-1-M7', 'HTC-1-M7', 'iPhone-4s', 'HTC-1-M7', 'HTC-1-M7', 'HTC-1-M7', 'HTC-1-M7', 'HTC-1-M7', 'HTC-1-M7', 'iPhone-4s', 'HTC-1-M7', 'iPhone-4s', 'HTC-1-M7', 'HTC-1-M7', 'HTC-1-M7', 'HTC-1-M7', 'Motorola-X', 'HTC-1-M7', 'HTC-1-M7', 'LG-Nexus-5x', 'HTC-1-M7', 'HTC-1-M7', 'HTC-1-M7', 'HTC-1-M7', 'HTC-1-M7', 'iPhone-4s', 'HTC-1-M7', 'HTC-1-M7', 'Motorola-Nexus-6', 'iPhone-4s', 'iPhone-4s', 'HTC-1-M7', 'iPhone-4s', 'Motorola-X', 'HTC-1-M7', 'Motorola-X', 'Motorola-X', 'iPhone-4s', 'Motorola-Nexus-6', 'HTC-1-M7', 'HTC-1-M7', 'HTC-1-M7', 'HTC-1-M7', 'HTC-1-M7', 'iPhone-4s', 'HTC-1-M7', 'HTC-1-M7', 'HTC-1-M7', 'HTC-1-M7', 'Motorola-X', 'HTC-1-M7', 'iPhone-4s', 'HTC-1-M7', 'Motorola-X', 'iPhone-4s', 'iPhone-4s', 'HTC-1-M7', 'HTC-1-M7', 'iPhone-4s', 'Motorola-X', 'HTC-1-M7', 'Motorola-X', 'HTC-1-M7', 'iPhone-4s', 'iPhone-4s', 'iPhone-4s', 'LG-Nexus-5x', 'iPhone-4s', 'HTC-1-M7', 'HTC-1-M7', 'Motorola-X', 'HTC-1-M7', 'HTC-1-M7', 'LG-Nexus-5x', 'HTC-1-M7', 'HTC-1-M7', 'HTC-1-M7', 'HTC-1-M7', 'HTC-1-M7', 'HTC-1-M7', 'HTC-1-M7', 'HTC-1-M7', 'HTC-1-M7', 'Motorola-X', 'HTC-1-M7', 'Motorola-X', 'iPhone-4s', 'HTC-1-M7', 'iPhone-4s', 'HTC-1-M7', 'HTC-1-M7', 'Motorola-Nexus-6', 'HTC-1-M7', 'HTC-1-M7', 'HTC-1-M7', 'HTC-1-M7', 'HTC-1-M7', 'HTC-1-M7', 'HTC-1-M7', 'HTC-1-M7', 'HTC-1-M7', 'HTC-1-M7', 'iPhone-4s', 'iPhone-4s', 'HTC-1-M7', 'HTC-1-M7', 'Motorola-X', 'Sony-NEX-7', 'Motorola-X', 'iPhone-4s', 'iPhone-4s', 'iPhone-4s', 'Motorola-X', 'HTC-1-M7', 'Motorola-X', 'HTC-1-M7', 'HTC-1-M7', 'HTC-1-M7', 'HTC-1-M7', 'iPhone-4s', 'HTC-1-M7', 'HTC-1-M7', 'HTC-1-M7', 'HTC-1-M7', 'HTC-1-M7', 'HTC-1-M7', 'iPhone-4s', 'HTC-1-M7', 'HTC-1-M7', 'LG-Nexus-5x', 'HTC-1-M7', 'HTC-1-M7', 'HTC-1-M7', 'iPhone-6', 'HTC-1-M7', 'HTC-1-M7', 'iPhone-4s', 'iPhone-4s', 'HTC-1-M7', 'HTC-1-M7', 'HTC-1-M7', 'HTC-1-M7', 'HTC-1-M7', 'iPhone-4s', 'HTC-1-M7', 'HTC-1-M7', 'Motorola-X', 'HTC-1-M7', 'HTC-1-M7', 'HTC-1-M7', 'LG-Nexus-5x', 'HTC-1-M7', 'LG-Nexus-5x', 'HTC-1-M7', 'HTC-1-M7', 'iPhone-4s', 'HTC-1-M7', 'HTC-1-M7', 'Motorola-X', 'HTC-1-M7', 'HTC-1-M7', 'HTC-1-M7', 'HTC-1-M7', 'HTC-1-M7', 'HTC-1-M7', 'HTC-1-M7', 'Motorola-X', 'HTC-1-M7', 'Motorola-X', 'HTC-1-M7', 'HTC-1-M7', 'HTC-1-M7', 'HTC-1-M7', 'HTC-1-M7', 'HTC-1-M7', 'HTC-1-M7', 'HTC-1-M7', 'HTC-1-M7', 'iPhone-4s', 'iPhone-4s', 'HTC-1-M7', 'HTC-1-M7', 'HTC-1-M7', 'HTC-1-M7', 'HTC-1-M7', 'iPhone-4s', 'iPhone-4s', 'HTC-1-M7', 'HTC-1-M7', 'HTC-1-M7', 'HTC-1-M7', 'HTC-1-M7', 'HTC-1-M7', 'HTC-1-M7', 'HTC-1-M7', 'HTC-1-M7', 'iPhone-4s', 'HTC-1-M7', 'HTC-1-M7', 'HTC-1-M7', 'HTC-1-M7', 'iPhone-4s', 'iPhone-4s', 'HTC-1-M7', 'HTC-1-M7', 'LG-Nexus-5x', 'LG-Nexus-5x', 'Motorola-X', 'HTC-1-M7', 'Motorola-Nexus-6', 'HTC-1-M7', 'HTC-1-M7', 'HTC-1-M7', 'HTC-1-M7', 'iPhone-4s', 'HTC-1-M7', 'iPhone-4s', 'Motorola-X', 'HTC-1-M7', 'Samsung-Galaxy-Note3', 'HTC-1-M7', 'HTC-1-M7', 'HTC-1-M7', 'HTC-1-M7', 'Samsung-Galaxy-Note3', 'HTC-1-M7', 'HTC-1-M7', 'HTC-1-M7', 'iPhone-4s', 'iPhone-4s', 'Sony-NEX-7', 'iPhone-4s', 'HTC-1-M7', 'HTC-1-M7', 'HTC-1-M7', 'HTC-1-M7', 'iPhone-4s', 'iPhone-4s', 'Motorola-X', 'iPhone-4s', 'HTC-1-M7', 'HTC-1-M7', 'HTC-1-M7', 'HTC-1-M7', 'Motorola-X', 'HTC-1-M7', 'HTC-1-M7', 'Motorola-X', 'HTC-1-M7', 'Motorola-X', 'Motorola-Nexus-6', 'iPhone-4s', 'HTC-1-M7', 'HTC-1-M7', 'HTC-1-M7', 'iPhone-4s', 'Motorola-X', 'HTC-1-M7', 'LG-Nexus-5x', 'HTC-1-M7', 'HTC-1-M7', 'HTC-1-M7', 'HTC-1-M7', 'HTC-1-M7', 'Motorola-X', 'Sony-NEX-7', 'HTC-1-M7', 'HTC-1-M7', 'Motorola-X', 'HTC-1-M7', 'HTC-1-M7', 'iPhone-4s', 'HTC-1-M7', 'HTC-1-M7', 'Motorola-X', 'iPhone-4s', 'HTC-1-M7', 'HTC-1-M7', 'HTC-1-M7', 'HTC-1-M7', 'HTC-1-M7', 'HTC-1-M7', 'LG-Nexus-5x', 'HTC-1-M7', 'Motorola-X', 'HTC-1-M7', 'HTC-1-M7', 'HTC-1-M7', 'HTC-1-M7', 'iPhone-4s', 'HTC-1-M7', 'HTC-1-M7', 'HTC-1-M7', 'HTC-1-M7', 'HTC-1-M7', 'HTC-1-M7', 'HTC-1-M7', 'HTC-1-M7', 'Sony-NEX-7', 'Motorola-X', 'HTC-1-M7', 'HTC-1-M7', 'iPhone-4s', 'HTC-1-M7', 'HTC-1-M7', 'iPhone-4s', 'iPhone-4s', 'HTC-1-M7', 'HTC-1-M7', 'iPhone-4s', 'HTC-1-M7', 'iPhone-4s', 'HTC-1-M7', 'HTC-1-M7', 'iPhone-4s', 'HTC-1-M7', 'HTC-1-M7', 'HTC-1-M7', 'Motorola-X', 'HTC-1-M7', 'Motorola-X', 'HTC-1-M7', 'iPhone-4s', 'HTC-1-M7', 'iPhone-4s', 'iPhone-4s', 'HTC-1-M7', 'HTC-1-M7', 'HTC-1-M7', 'iPhone-4s', 'iPhone-4s', 'LG-Nexus-5x', 'iPhone-4s', 'HTC-1-M7', 'iPhone-4s', 'iPhone-4s', 'HTC-1-M7', 'Motorola-Nexus-6', 'HTC-1-M7', 'HTC-1-M7', 'LG-Nexus-5x', 'HTC-1-M7', 'iPhone-4s', 'HTC-1-M7', 'HTC-1-M7', 'HTC-1-M7', 'HTC-1-M7', 'HTC-1-M7', 'iPhone-4s', 'HTC-1-M7', 'Motorola-X', 'Motorola-X', 'Motorola-Nexus-6', 'HTC-1-M7', 'HTC-1-M7', 'HTC-1-M7', 'HTC-1-M7', 'LG-Nexus-5x', 'iPhone-4s', 'HTC-1-M7', 'HTC-1-M7', 'HTC-1-M7', 'HTC-1-M7', 'Motorola-X', 'iPhone-4s', 'HTC-1-M7', 'HTC-1-M7', 'HTC-1-M7', 'iPhone-4s', 'HTC-1-M7', 'HTC-1-M7', 'HTC-1-M7', 'Samsung-Galaxy-Note3', 'HTC-1-M7', 'iPhone-4s', 'HTC-1-M7', 'Motorola-X', 'iPhone-4s', 'iPhone-4s', 'HTC-1-M7', 'HTC-1-M7', 'HTC-1-M7', 'iPhone-4s', 'HTC-1-M7', 'HTC-1-M7', 'HTC-1-M7', 'Motorola-X', 'Motorola-X', 'HTC-1-M7', 'LG-Nexus-5x', 'Motorola-X', 'LG-Nexus-5x', 'HTC-1-M7', 'iPhone-4s', 'HTC-1-M7', 'iPhone-4s', 'HTC-1-M7', 'HTC-1-M7', 'Motorola-Nexus-6', 'HTC-1-M7', 'HTC-1-M7', 'HTC-1-M7', 'HTC-1-M7', 'Motorola-X', 'HTC-1-M7', 'HTC-1-M7', 'HTC-1-M7', 'iPhone-4s', 'HTC-1-M7', 'iPhone-4s', 'iPhone-4s', 'HTC-1-M7', 'iPhone-4s', 'HTC-1-M7', 'HTC-1-M7', 'HTC-1-M7', 'iPhone-4s', 'HTC-1-M7', 'Sony-NEX-7', 'HTC-1-M7', 'HTC-1-M7', 'HTC-1-M7', 'HTC-1-M7', 'HTC-1-M7', 'iPhone-4s', 'HTC-1-M7', 'Motorola-X', 'LG-Nexus-5x', 'iPhone-4s', 'HTC-1-M7', 'HTC-1-M7', 'Motorola-Nexus-6', 'Motorola-X', 'HTC-1-M7', 'iPhone-4s', 'HTC-1-M7', 'iPhone-4s', 'iPhone-4s', 'HTC-1-M7', 'Motorola-X', 'HTC-1-M7', 'HTC-1-M7', 'iPhone-4s', 'HTC-1-M7', 'HTC-1-M7', 'HTC-1-M7', 'HTC-1-M7', 'HTC-1-M7', 'HTC-1-M7', 'HTC-1-M7', 'HTC-1-M7', 'Samsung-Galaxy-Note3', 'Motorola-Nexus-6', 'Motorola-X', 'iPhone-4s', 'HTC-1-M7', 'iPhone-4s', 'HTC-1-M7', 'HTC-1-M7', 'HTC-1-M7', 'HTC-1-M7', 'HTC-1-M7', 'HTC-1-M7', 'HTC-1-M7', 'HTC-1-M7', 'HTC-1-M7', 'HTC-1-M7', 'iPhone-4s', 'HTC-1-M7', 'HTC-1-M7', 'iPhone-4s', 'HTC-1-M7', 'iPhone-4s', 'HTC-1-M7', 'HTC-1-M7', 'HTC-1-M7', 'Motorola-X', 'iPhone-4s', 'Sony-NEX-7', 'LG-Nexus-5x', 'HTC-1-M7', 'iPhone-4s', 'Motorola-X', 'Motorola-X', 'iPhone-4s', 'HTC-1-M7', 'iPhone-4s', 'HTC-1-M7', 'HTC-1-M7', 'Motorola-Nexus-6', 'iPhone-4s', 'HTC-1-M7', 'Motorola-X', 'HTC-1-M7', 'Motorola-Nexus-6', 'HTC-1-M7', 'LG-Nexus-5x', 'Motorola-X', 'iPhone-4s', 'iPhone-4s', 'HTC-1-M7', 'HTC-1-M7', 'HTC-1-M7', 'Motorola-X', 'HTC-1-M7', 'iPhone-4s', 'iPhone-4s', 'HTC-1-M7', 'HTC-1-M7', 'HTC-1-M7', 'iPhone-4s', 'HTC-1-M7', 'HTC-1-M7', 'HTC-1-M7', 'HTC-1-M7', 'iPhone-4s', 'HTC-1-M7', 'LG-Nexus-5x', 'HTC-1-M7', 'iPhone-4s', 'HTC-1-M7', 'Motorola-Nexus-6', 'iPhone-4s', 'HTC-1-M7', 'iPhone-4s', 'HTC-1-M7', 'HTC-1-M7', 'HTC-1-M7', 'HTC-1-M7', 'HTC-1-M7', 'HTC-1-M7', 'HTC-1-M7', 'Motorola-Nexus-6', 'HTC-1-M7', 'HTC-1-M7', 'HTC-1-M7', 'HTC-1-M7', 'HTC-1-M7', 'HTC-1-M7', 'HTC-1-M7', 'LG-Nexus-5x', 'iPhone-4s', 'HTC-1-M7', 'iPhone-4s', 'iPhone-4s', 'HTC-1-M7', 'HTC-1-M7', 'iPhone-4s', 'HTC-1-M7', 'Motorola-X', 'HTC-1-M7', 'HTC-1-M7', 'HTC-1-M7', 'HTC-1-M7', 'HTC-1-M7', 'iPhone-4s', 'iPhone-4s', 'HTC-1-M7', 'HTC-1-M7', 'HTC-1-M7', 'HTC-1-M7', 'HTC-1-M7', 'HTC-1-M7', 'iPhone-4s', 'HTC-1-M7', 'HTC-1-M7', 'HTC-1-M7', 'iPhone-4s', 'iPhone-4s', 'HTC-1-M7', 'LG-Nexus-5x', 'iPhone-4s', 'HTC-1-M7', 'iPhone-6', 'Motorola-X', 'HTC-1-M7', 'Sony-NEX-7', 'HTC-1-M7', 'HTC-1-M7', 'HTC-1-M7', 'HTC-1-M7', 'LG-Nexus-5x', 'Motorola-X', 'HTC-1-M7', 'iPhone-4s', 'HTC-1-M7', 'HTC-1-M7', 'HTC-1-M7', 'iPhone-4s', 'HTC-1-M7', 'iPhone-4s', 'HTC-1-M7', 'HTC-1-M7', 'HTC-1-M7', 'HTC-1-M7', 'HTC-1-M7', 'Motorola-X', 'HTC-1-M7', 'HTC-1-M7', 'iPhone-4s', 'HTC-1-M7', 'HTC-1-M7', 'HTC-1-M7', 'HTC-1-M7', 'iPhone-4s', 'Sony-NEX-7', 'HTC-1-M7', 'iPhone-4s', 'HTC-1-M7', 'HTC-1-M7', 'HTC-1-M7', 'HTC-1-M7', 'Motorola-X', 'iPhone-4s', 'iPhone-4s', 'HTC-1-M7', 'HTC-1-M7', 'HTC-1-M7', 'iPhone-4s', 'HTC-1-M7', 'iPhone-4s', 'HTC-1-M7', 'Motorola-X', 'HTC-1-M7', 'iPhone-4s', 'HTC-1-M7', 'HTC-1-M7', 'HTC-1-M7', 'Motorola-X', 'HTC-1-M7', 'HTC-1-M7', 'HTC-1-M7', 'HTC-1-M7', 'HTC-1-M7', 'Motorola-X', 'HTC-1-M7', 'HTC-1-M7', 'HTC-1-M7', 'iPhone-4s', 'HTC-1-M7', 'HTC-1-M7', 'HTC-1-M7', 'HTC-1-M7', 'iPhone-4s', 'HTC-1-M7', 'iPhone-4s', 'HTC-1-M7', 'iPhone-4s', 'HTC-1-M7', 'iPhone-4s', 'HTC-1-M7', 'HTC-1-M7', 'HTC-1-M7', 'HTC-1-M7', 'HTC-1-M7', 'Motorola-X', 'LG-Nexus-5x', 'HTC-1-M7', 'iPhone-4s', 'iPhone-4s', 'HTC-1-M7', 'HTC-1-M7', 'HTC-1-M7', 'HTC-1-M7', 'iPhone-4s', 'HTC-1-M7', 'HTC-1-M7', 'HTC-1-M7', 'iPhone-4s', 'iPhone-4s', 'HTC-1-M7', 'HTC-1-M7', 'HTC-1-M7', 'HTC-1-M7', 'iPhone-4s', 'HTC-1-M7', 'iPhone-4s', 'HTC-1-M7', 'HTC-1-M7', 'iPhone-4s', 'HTC-1-M7', 'HTC-1-M7', 'HTC-1-M7', 'HTC-1-M7', 'HTC-1-M7', 'HTC-1-M7', 'Motorola-X', 'HTC-1-M7', 'HTC-1-M7', 'LG-Nexus-5x', 'HTC-1-M7', 'HTC-1-M7', 'HTC-1-M7', 'HTC-1-M7', 'iPhone-4s', 'HTC-1-M7', 'HTC-1-M7', 'iPhone-6', 'iPhone-4s', 'Motorola-X', 'LG-Nexus-5x', 'iPhone-4s', 'HTC-1-M7', 'Motorola-X', 'iPhone-4s', 'HTC-1-M7', 'HTC-1-M7', 'HTC-1-M7', 'iPhone-4s', 'iPhone-4s', 'HTC-1-M7', 'HTC-1-M7', 'HTC-1-M7', 'Sony-NEX-7', 'HTC-1-M7', 'HTC-1-M7', 'iPhone-4s', 'iPhone-4s', 'LG-Nexus-5x', 'HTC-1-M7', 'HTC-1-M7', 'HTC-1-M7', 'HTC-1-M7', 'HTC-1-M7', 'HTC-1-M7', 'HTC-1-M7', 'HTC-1-M7', 'HTC-1-M7', 'iPhone-4s', 'HTC-1-M7', 'HTC-1-M7', 'HTC-1-M7', 'HTC-1-M7', 'iPhone-4s', 'HTC-1-M7', 'iPhone-4s', 'HTC-1-M7', 'HTC-1-M7', 'HTC-1-M7', 'iPhone-4s', 'LG-Nexus-5x', 'HTC-1-M7', 'HTC-1-M7', 'iPhone-4s', 'HTC-1-M7', 'iPhone-4s', 'HTC-1-M7', 'HTC-1-M7', 'iPhone-4s', 'HTC-1-M7', 'HTC-1-M7', 'HTC-1-M7', 'iPhone-4s', 'HTC-1-M7', 'iPhone-4s', 'HTC-1-M7', 'LG-Nexus-5x', 'HTC-1-M7', 'iPhone-4s', 'HTC-1-M7', 'iPhone-4s', 'iPhone-4s', 'LG-Nexus-5x', 'HTC-1-M7', 'LG-Nexus-5x', 'Motorola-X', 'HTC-1-M7', 'HTC-1-M7', 'HTC-1-M7', 'HTC-1-M7', 'Motorola-X', 'Motorola-X', 'HTC-1-M7', 'LG-Nexus-5x', 'HTC-1-M7', 'HTC-1-M7', 'Motorola-X', 'HTC-1-M7', 'HTC-1-M7', 'HTC-1-M7', 'HTC-1-M7', 'Motorola-X', 'iPhone-4s', 'HTC-1-M7', 'iPhone-4s', 'HTC-1-M7', 'iPhone-4s', 'HTC-1-M7', 'HTC-1-M7', 'HTC-1-M7', 'LG-Nexus-5x', 'iPhone-4s', 'HTC-1-M7', 'HTC-1-M7', 'HTC-1-M7', 'HTC-1-M7', 'HTC-1-M7', 'HTC-1-M7', 'HTC-1-M7', 'Motorola-X', 'HTC-1-M7', 'HTC-1-M7', 'HTC-1-M7', 'HTC-1-M7', 'Motorola-X', 'HTC-1-M7', 'Motorola-X', 'HTC-1-M7', 'Motorola-X', 'Motorola-X', 'HTC-1-M7', 'HTC-1-M7', 'HTC-1-M7', 'iPhone-4s', 'iPhone-4s', 'HTC-1-M7', 'HTC-1-M7', 'HTC-1-M7', 'Motorola-X', 'HTC-1-M7', 'iPhone-4s', 'HTC-1-M7', 'LG-Nexus-5x', 'iPhone-4s', 'iPhone-4s', 'HTC-1-M7', 'HTC-1-M7', 'HTC-1-M7', 'HTC-1-M7', 'HTC-1-M7', 'HTC-1-M7', 'iPhone-4s', 'HTC-1-M7', 'HTC-1-M7', 'Motorola-X', 'HTC-1-M7', 'HTC-1-M7', 'HTC-1-M7', 'HTC-1-M7', 'Motorola-X', 'HTC-1-M7', 'LG-Nexus-5x', 'HTC-1-M7', 'HTC-1-M7', 'HTC-1-M7', 'HTC-1-M7', 'iPhone-4s', 'LG-Nexus-5x', 'HTC-1-M7', 'HTC-1-M7', 'HTC-1-M7', 'HTC-1-M7', 'HTC-1-M7', 'iPhone-4s', 'HTC-1-M7', 'HTC-1-M7', 'LG-Nexus-5x', 'HTC-1-M7', 'Motorola-Nexus-6', 'Sony-NEX-7', 'LG-Nexus-5x', 'HTC-1-M7', 'HTC-1-M7', 'HTC-1-M7', 'iPhone-4s', 'HTC-1-M7', 'HTC-1-M7', 'iPhone-4s', 'Samsung-Galaxy-Note3', 'Motorola-X', 'HTC-1-M7', 'HTC-1-M7', 'LG-Nexus-5x', 'HTC-1-M7', 'Sony-NEX-7', 'Samsung-Galaxy-Note3', 'HTC-1-M7', 'iPhone-4s', 'Samsung-Galaxy-Note3', 'HTC-1-M7', 'HTC-1-M7', 'HTC-1-M7', 'HTC-1-M7', 'HTC-1-M7', 'iPhone-4s', 'HTC-1-M7', 'HTC-1-M7', 'iPhone-4s', 'iPhone-4s', 'HTC-1-M7', 'HTC-1-M7', 'iPhone-4s', 'HTC-1-M7', 'HTC-1-M7', 'HTC-1-M7', 'HTC-1-M7', 'HTC-1-M7', 'HTC-1-M7', 'HTC-1-M7', 'HTC-1-M7', 'iPhone-4s', 'iPhone-4s', 'HTC-1-M7', 'HTC-1-M7', 'HTC-1-M7', 'iPhone-4s', 'LG-Nexus-5x', 'HTC-1-M7', 'HTC-1-M7', 'HTC-1-M7', 'HTC-1-M7', 'HTC-1-M7', 'Motorola-X', 'iPhone-4s', 'iPhone-4s', 'LG-Nexus-5x', 'LG-Nexus-5x', 'iPhone-4s', 'HTC-1-M7', 'iPhone-4s', 'iPhone-4s', 'HTC-1-M7', 'HTC-1-M7', 'HTC-1-M7', 'iPhone-4s', 'HTC-1-M7', 'HTC-1-M7', 'HTC-1-M7', 'HTC-1-M7', 'HTC-1-M7', 'HTC-1-M7', 'HTC-1-M7', 'HTC-1-M7', 'HTC-1-M7', 'HTC-1-M7', 'HTC-1-M7', 'HTC-1-M7', 'HTC-1-M7', 'HTC-1-M7', 'iPhone-4s', 'HTC-1-M7', 'HTC-1-M7', 'HTC-1-M7', 'HTC-1-M7', 'HTC-1-M7', 'HTC-1-M7', 'HTC-1-M7', 'iPhone-4s', 'iPhone-4s', 'HTC-1-M7', 'HTC-1-M7', 'HTC-1-M7', 'HTC-1-M7', 'iPhone-4s', 'iPhone-4s', 'HTC-1-M7', 'HTC-1-M7', 'Motorola-X', 'HTC-1-M7', 'iPhone-4s', 'HTC-1-M7', 'HTC-1-M7', 'HTC-1-M7', 'Motorola-X', 'iPhone-4s', 'HTC-1-M7', 'HTC-1-M7', 'LG-Nexus-5x', 'iPhone-4s', 'iPhone-4s', 'HTC-1-M7', 'HTC-1-M7', 'HTC-1-M7', 'HTC-1-M7', 'iPhone-4s', 'HTC-1-M7', 'Motorola-X', 'Motorola-X', 'Samsung-Galaxy-Note3', 'HTC-1-M7', 'HTC-1-M7', 'HTC-1-M7', 'iPhone-4s', 'HTC-1-M7', 'HTC-1-M7', 'HTC-1-M7', 'HTC-1-M7', 'iPhone-4s', 'iPhone-4s', 'HTC-1-M7', 'Motorola-X', 'LG-Nexus-5x', 'HTC-1-M7', 'HTC-1-M7', 'iPhone-4s', 'HTC-1-M7', 'HTC-1-M7', 'LG-Nexus-5x', 'HTC-1-M7', 'HTC-1-M7', 'iPhone-4s', 'HTC-1-M7', 'HTC-1-M7', 'iPhone-4s', 'iPhone-4s', 'Motorola-X', 'HTC-1-M7', 'HTC-1-M7', 'HTC-1-M7', 'HTC-1-M7', 'HTC-1-M7', 'iPhone-4s', 'HTC-1-M7', 'HTC-1-M7', 'HTC-1-M7', 'HTC-1-M7', 'iPhone-4s', 'HTC-1-M7', 'Motorola-Nexus-6', 'iPhone-4s', 'LG-Nexus-5x', 'iPhone-4s', 'HTC-1-M7', 'HTC-1-M7', 'Motorola-X', 'iPhone-4s', 'iPhone-4s', 'HTC-1-M7', 'HTC-1-M7', 'iPhone-4s', 'HTC-1-M7', 'HTC-1-M7', 'iPhone-4s', 'iPhone-4s', 'HTC-1-M7', 'HTC-1-M7', 'HTC-1-M7', 'HTC-1-M7', 'iPhone-4s', 'HTC-1-M7', 'iPhone-4s', 'HTC-1-M7', 'LG-Nexus-5x', 'HTC-1-M7', 'HTC-1-M7', 'LG-Nexus-5x', 'iPhone-4s', 'HTC-1-M7', 'HTC-1-M7', 'HTC-1-M7', 'HTC-1-M7', 'HTC-1-M7', 'Sony-NEX-7', 'iPhone-4s', 'iPhone-4s', 'HTC-1-M7', 'LG-Nexus-5x', 'HTC-1-M7', 'HTC-1-M7', 'HTC-1-M7', 'HTC-1-M7', 'HTC-1-M7', 'HTC-1-M7', 'HTC-1-M7', 'HTC-1-M7', 'Motorola-X', 'HTC-1-M7', 'HTC-1-M7', 'iPhone-4s', 'Motorola-X', 'HTC-1-M7', 'HTC-1-M7', 'HTC-1-M7', 'HTC-1-M7', 'HTC-1-M7', 'HTC-1-M7', 'Motorola-X', 'HTC-1-M7', 'HTC-1-M7', 'HTC-1-M7', 'HTC-1-M7', 'HTC-1-M7', 'HTC-1-M7', 'HTC-1-M7', 'iPhone-4s', 'HTC-1-M7', 'HTC-1-M7', 'iPhone-4s', 'HTC-1-M7', 'HTC-1-M7', 'HTC-1-M7', 'HTC-1-M7', 'HTC-1-M7', 'HTC-1-M7', 'HTC-1-M7', 'HTC-1-M7', 'HTC-1-M7', 'iPhone-4s', 'LG-Nexus-5x', 'HTC-1-M7', 'Motorola-X', 'HTC-1-M7', 'Motorola-X', 'HTC-1-M7', 'HTC-1-M7', 'HTC-1-M7', 'HTC-1-M7', 'HTC-1-M7', 'HTC-1-M7', 'HTC-1-M7', 'HTC-1-M7', 'HTC-1-M7', 'HTC-1-M7', 'LG-Nexus-5x', 'HTC-1-M7', 'HTC-1-M7', 'LG-Nexus-5x', 'iPhone-4s', 'LG-Nexus-5x', 'iPhone-4s', 'HTC-1-M7', 'Motorola-X', 'HTC-1-M7', 'Motorola-X', 'HTC-1-M7', 'HTC-1-M7', 'HTC-1-M7', 'HTC-1-M7', 'LG-Nexus-5x', 'HTC-1-M7', 'iPhone-4s', 'iPhone-4s', 'HTC-1-M7', 'iPhone-4s', 'HTC-1-M7', 'HTC-1-M7', 'HTC-1-M7', 'iPhone-4s', 'iPhone-4s', 'HTC-1-M7', 'Motorola-X', 'iPhone-6', 'iPhone-4s', 'HTC-1-M7', 'HTC-1-M7', 'HTC-1-M7', 'HTC-1-M7', 'HTC-1-M7', 'HTC-1-M7', 'iPhone-6', 'HTC-1-M7', 'HTC-1-M7', 'HTC-1-M7', 'HTC-1-M7', 'HTC-1-M7', 'HTC-1-M7', 'iPhone-4s', 'iPhone-4s', 'HTC-1-M7', 'HTC-1-M7', 'HTC-1-M7', 'HTC-1-M7', 'Motorola-Nexus-6', 'HTC-1-M7', 'HTC-1-M7', 'Motorola-Nexus-6', 'HTC-1-M7', 'iPhone-4s', 'LG-Nexus-5x', 'HTC-1-M7', 'HTC-1-M7', 'Sony-NEX-7', 'HTC-1-M7', 'HTC-1-M7', 'Motorola-X', 'HTC-1-M7', 'HTC-1-M7', 'iPhone-4s', 'HTC-1-M7', 'HTC-1-M7', 'HTC-1-M7', 'HTC-1-M7', 'HTC-1-M7', 'iPhone-4s', 'HTC-1-M7', 'HTC-1-M7', 'Sony-NEX-7', 'iPhone-6', 'HTC-1-M7', 'HTC-1-M7', 'HTC-1-M7', 'HTC-1-M7', 'iPhone-4s', 'HTC-1-M7', 'HTC-1-M7', 'Samsung-Galaxy-Note3', 'HTC-1-M7', 'iPhone-4s', 'iPhone-4s', 'HTC-1-M7', 'HTC-1-M7', 'HTC-1-M7', 'HTC-1-M7', 'HTC-1-M7', 'iPhone-4s', 'iPhone-4s', 'HTC-1-M7', 'HTC-1-M7', 'HTC-1-M7', 'HTC-1-M7', 'iPhone-4s', 'HTC-1-M7', 'HTC-1-M7', 'HTC-1-M7', 'HTC-1-M7', 'HTC-1-M7', 'HTC-1-M7', 'HTC-1-M7', 'HTC-1-M7', 'HTC-1-M7', 'HTC-1-M7', 'iPhone-4s', 'HTC-1-M7', 'iPhone-4s', 'HTC-1-M7', 'HTC-1-M7', 'HTC-1-M7', 'HTC-1-M7', 'Motorola-X', 'HTC-1-M7', 'iPhone-4s', 'iPhone-4s', 'HTC-1-M7', 'Samsung-Galaxy-Note3', 'LG-Nexus-5x', 'HTC-1-M7', 'Motorola-X', 'iPhone-4s', 'HTC-1-M7', 'HTC-1-M7', 'HTC-1-M7', 'HTC-1-M7', 'HTC-1-M7', 'iPhone-4s', 'iPhone-4s', 'HTC-1-M7', 'HTC-1-M7', 'HTC-1-M7', 'HTC-1-M7', 'LG-Nexus-5x', 'Motorola-X', 'iPhone-4s', 'Motorola-X', 'HTC-1-M7', 'HTC-1-M7', 'HTC-1-M7', 'HTC-1-M7', 'HTC-1-M7', 'iPhone-4s', 'HTC-1-M7', 'Motorola-X', 'HTC-1-M7', 'HTC-1-M7', 'LG-Nexus-5x', 'iPhone-4s', 'HTC-1-M7', 'HTC-1-M7', 'LG-Nexus-5x', 'HTC-1-M7', 'Motorola-X', 'HTC-1-M7', 'HTC-1-M7', 'HTC-1-M7', 'Samsung-Galaxy-Note3', 'HTC-1-M7', 'HTC-1-M7', 'HTC-1-M7', 'HTC-1-M7', 'HTC-1-M7', 'HTC-1-M7', 'HTC-1-M7', 'HTC-1-M7', 'iPhone-4s', 'iPhone-4s', 'HTC-1-M7', 'iPhone-4s', 'HTC-1-M7', 'iPhone-4s', 'Motorola-Nexus-6', 'Motorola-X', 'HTC-1-M7', 'iPhone-4s', 'HTC-1-M7', 'HTC-1-M7', 'Motorola-X', 'iPhone-4s', 'HTC-1-M7', 'HTC-1-M7', 'HTC-1-M7', 'Sony-NEX-7', 'Motorola-X', 'HTC-1-M7', 'HTC-1-M7', 'HTC-1-M7', 'HTC-1-M7', 'LG-Nexus-5x', 'iPhone-4s', 'HTC-1-M7', 'HTC-1-M7', 'HTC-1-M7', 'iPhone-4s', 'HTC-1-M7', 'HTC-1-M7', 'iPhone-4s', 'HTC-1-M7', 'HTC-1-M7', 'HTC-1-M7', 'HTC-1-M7', 'HTC-1-M7', 'HTC-1-M7', 'HTC-1-M7', 'HTC-1-M7', 'HTC-1-M7', 'HTC-1-M7', 'HTC-1-M7', 'iPhone-4s', 'HTC-1-M7', 'HTC-1-M7', 'HTC-1-M7', 'HTC-1-M7', 'iPhone-4s', 'HTC-1-M7', 'iPhone-6', 'HTC-1-M7', 'HTC-1-M7', 'HTC-1-M7', 'iPhone-4s', 'HTC-1-M7', 'iPhone-4s', 'HTC-1-M7', 'HTC-1-M7', 'Motorola-X', 'Motorola-X', 'HTC-1-M7', 'HTC-1-M7', 'HTC-1-M7', 'HTC-1-M7', 'iPhone-4s', 'LG-Nexus-5x', 'HTC-1-M7', 'HTC-1-M7', 'HTC-1-M7', 'Motorola-X', 'HTC-1-M7', 'HTC-1-M7', 'iPhone-4s', 'HTC-1-M7', 'Motorola-X', 'Motorola-Nexus-6', 'Motorola-X', 'HTC-1-M7', 'HTC-1-M7', 'HTC-1-M7', 'HTC-1-M7', 'LG-Nexus-5x', 'HTC-1-M7', 'HTC-1-M7', 'HTC-1-M7', 'LG-Nexus-5x', 'HTC-1-M7', 'HTC-1-M7', 'HTC-1-M7', 'iPhone-4s', 'iPhone-4s', 'HTC-1-M7', 'iPhone-4s', 'iPhone-4s', 'HTC-1-M7', 'iPhone-4s', 'HTC-1-M7', 'HTC-1-M7', 'iPhone-4s', 'Motorola-X', 'Motorola-X', 'HTC-1-M7', 'Motorola-X', 'HTC-1-M7', 'HTC-1-M7', 'iPhone-4s', 'HTC-1-M7', 'HTC-1-M7', 'LG-Nexus-5x', 'HTC-1-M7', 'HTC-1-M7', 'HTC-1-M7', 'HTC-1-M7', 'LG-Nexus-5x', 'HTC-1-M7', 'HTC-1-M7', 'HTC-1-M7', 'iPhone-4s', 'HTC-1-M7', 'HTC-1-M7', 'HTC-1-M7', 'HTC-1-M7', 'iPhone-4s', 'iPhone-4s', 'HTC-1-M7', 'HTC-1-M7', 'iPhone-4s', 'Sony-NEX-7', 'HTC-1-M7', 'HTC-1-M7', 'HTC-1-M7', 'iPhone-4s', 'HTC-1-M7', 'HTC-1-M7', 'LG-Nexus-5x', 'iPhone-4s', 'iPhone-4s', 'LG-Nexus-5x', 'iPhone-4s', 'HTC-1-M7', 'HTC-1-M7', 'iPhone-4s', 'LG-Nexus-5x', 'HTC-1-M7', 'Motorola-X', 'Motorola-X', 'HTC-1-M7', 'HTC-1-M7', 'HTC-1-M7', 'Motorola-X', 'Motorola-X', 'HTC-1-M7', 'iPhone-4s', 'HTC-1-M7', 'HTC-1-M7', 'HTC-1-M7', 'HTC-1-M7', 'HTC-1-M7', 'HTC-1-M7', 'HTC-1-M7', 'HTC-1-M7', 'iPhone-4s', 'Motorola-X', 'HTC-1-M7', 'HTC-1-M7', 'iPhone-4s', 'Motorola-X', 'HTC-1-M7', 'Sony-NEX-7', 'HTC-1-M7', 'HTC-1-M7', 'Sony-NEX-7', 'HTC-1-M7', 'Motorola-X', 'iPhone-4s', 'Motorola-X', 'HTC-1-M7', 'HTC-1-M7', 'iPhone-4s', 'Motorola-Nexus-6', 'HTC-1-M7', 'HTC-1-M7', 'HTC-1-M7', 'Motorola-X', 'HTC-1-M7', 'HTC-1-M7', 'HTC-1-M7', 'HTC-1-M7', 'LG-Nexus-5x', 'HTC-1-M7', 'HTC-1-M7', 'LG-Nexus-5x', 'LG-Nexus-5x', 'HTC-1-M7', 'iPhone-4s', 'HTC-1-M7', 'HTC-1-M7', 'HTC-1-M7', 'iPhone-4s', 'HTC-1-M7', 'Samsung-Galaxy-Note3', 'iPhone-4s', 'HTC-1-M7', 'HTC-1-M7', 'iPhone-4s', 'HTC-1-M7', 'HTC-1-M7', 'HTC-1-M7', 'Motorola-Nexus-6', 'Motorola-X', 'HTC-1-M7', 'Sony-NEX-7', 'Motorola-X', 'iPhone-4s', 'HTC-1-M7', 'Motorola-X', 'LG-Nexus-5x', 'HTC-1-M7', 'iPhone-4s', 'HTC-1-M7', 'Motorola-X', 'HTC-1-M7', 'HTC-1-M7', 'LG-Nexus-5x', 'HTC-1-M7', 'iPhone-4s', 'HTC-1-M7', 'HTC-1-M7', 'HTC-1-M7', 'Motorola-X', 'HTC-1-M7', 'HTC-1-M7', 'HTC-1-M7', 'iPhone-4s', 'HTC-1-M7', 'LG-Nexus-5x', 'HTC-1-M7', 'Motorola-X', 'iPhone-4s', 'HTC-1-M7', 'iPhone-4s', 'HTC-1-M7', 'HTC-1-M7', 'HTC-1-M7', 'iPhone-4s', 'HTC-1-M7', 'HTC-1-M7', 'iPhone-4s', 'HTC-1-M7', 'HTC-1-M7', 'HTC-1-M7', 'HTC-1-M7', 'iPhone-4s', 'HTC-1-M7', 'Motorola-X', 'HTC-1-M7', 'HTC-1-M7', 'LG-Nexus-5x', 'Motorola-X', 'HTC-1-M7', 'HTC-1-M7', 'LG-Nexus-5x', 'HTC-1-M7', 'HTC-1-M7', 'HTC-1-M7', 'HTC-1-M7', 'HTC-1-M7', 'HTC-1-M7', 'HTC-1-M7', 'HTC-1-M7', 'HTC-1-M7', 'HTC-1-M7', 'Motorola-X', 'HTC-1-M7', 'iPhone-4s', 'iPhone-4s', 'HTC-1-M7', 'HTC-1-M7', 'HTC-1-M7', 'iPhone-4s', 'iPhone-4s', 'iPhone-4s', 'iPhone-4s', 'HTC-1-M7', 'HTC-1-M7', 'HTC-1-M7', 'HTC-1-M7', 'iPhone-4s', 'HTC-1-M7', 'iPhone-4s', 'iPhone-4s', 'HTC-1-M7', 'HTC-1-M7', 'HTC-1-M7', 'HTC-1-M7', 'HTC-1-M7', 'HTC-1-M7', 'Motorola-X', 'HTC-1-M7', 'iPhone-4s', 'iPhone-4s', 'HTC-1-M7', 'HTC-1-M7', 'Motorola-X', 'iPhone-4s', 'HTC-1-M7', 'iPhone-4s', 'LG-Nexus-5x', 'HTC-1-M7', 'Motorola-X', 'HTC-1-M7', 'iPhone-4s', 'HTC-1-M7', 'HTC-1-M7', 'LG-Nexus-5x', 'HTC-1-M7', 'HTC-1-M7', 'HTC-1-M7', 'iPhone-4s', 'HTC-1-M7', 'HTC-1-M7', 'HTC-1-M7', 'HTC-1-M7', 'HTC-1-M7', 'HTC-1-M7', 'Motorola-X', 'HTC-1-M7', 'Motorola-X', 'HTC-1-M7', 'HTC-1-M7', 'HTC-1-M7', 'Motorola-X', 'iPhone-4s', 'iPhone-4s', 'HTC-1-M7', 'HTC-1-M7', 'Motorola-X', 'Motorola-X', 'HTC-1-M7', 'iPhone-4s', 'iPhone-4s', 'HTC-1-M7', 'iPhone-4s', 'HTC-1-M7', 'HTC-1-M7', 'HTC-1-M7', 'Motorola-Nexus-6', 'iPhone-4s', 'iPhone-4s', 'iPhone-4s', 'iPhone-4s', 'HTC-1-M7', 'HTC-1-M7', 'HTC-1-M7', 'iPhone-4s', 'HTC-1-M7', 'HTC-1-M7', 'iPhone-4s', 'HTC-1-M7', 'HTC-1-M7', 'HTC-1-M7', 'HTC-1-M7', 'HTC-1-M7', 'iPhone-4s', 'HTC-1-M7', 'HTC-1-M7', 'HTC-1-M7', 'HTC-1-M7', 'HTC-1-M7', 'HTC-1-M7', 'HTC-1-M7', 'HTC-1-M7', 'iPhone-4s', 'Motorola-X', 'HTC-1-M7', 'HTC-1-M7', 'HTC-1-M7', 'Motorola-X', 'HTC-1-M7', 'iPhone-4s', 'iPhone-4s', 'iPhone-4s', 'HTC-1-M7', 'iPhone-4s', 'HTC-1-M7', 'LG-Nexus-5x', 'HTC-1-M7', 'iPhone-4s', 'HTC-1-M7', 'HTC-1-M7', 'Motorola-Nexus-6', 'HTC-1-M7', 'HTC-1-M7', 'HTC-1-M7', 'HTC-1-M7', 'iPhone-4s', 'iPhone-4s', 'HTC-1-M7', 'iPhone-4s', 'HTC-1-M7', 'Motorola-X', 'HTC-1-M7', 'HTC-1-M7', 'HTC-1-M7', 'HTC-1-M7', 'LG-Nexus-5x', 'HTC-1-M7', 'HTC-1-M7', 'HTC-1-M7', 'HTC-1-M7', 'HTC-1-M7', 'iPhone-4s', 'HTC-1-M7', 'HTC-1-M7', 'iPhone-4s', 'HTC-1-M7', 'HTC-1-M7', 'HTC-1-M7', 'LG-Nexus-5x', 'LG-Nexus-5x', 'HTC-1-M7', 'HTC-1-M7', 'Motorola-X', 'iPhone-4s', 'HTC-1-M7', 'HTC-1-M7', 'HTC-1-M7', 'iPhone-4s', 'HTC-1-M7', 'iPhone-4s', 'iPhone-6', 'HTC-1-M7', 'Motorola-X', 'iPhone-4s', 'iPhone-4s', 'HTC-1-M7', 'HTC-1-M7', 'LG-Nexus-5x', 'iPhone-4s', 'iPhone-4s', 'HTC-1-M7', 'HTC-1-M7', 'Motorola-X', 'HTC-1-M7', 'HTC-1-M7', 'iPhone-4s', 'HTC-1-M7', 'iPhone-4s', 'HTC-1-M7', 'HTC-1-M7', 'HTC-1-M7', 'HTC-1-M7', 'HTC-1-M7', 'HTC-1-M7', 'Motorola-Nexus-6', 'Sony-NEX-7', 'HTC-1-M7', 'iPhone-4s', 'HTC-1-M7', 'HTC-1-M7', 'HTC-1-M7', 'HTC-1-M7', 'Motorola-Nexus-6', 'HTC-1-M7', 'HTC-1-M7', 'HTC-1-M7', 'Motorola-X', 'HTC-1-M7', 'HTC-1-M7', 'HTC-1-M7', 'HTC-1-M7', 'HTC-1-M7', 'HTC-1-M7', 'iPhone-4s', 'iPhone-4s', 'Motorola-Nexus-6', 'HTC-1-M7', 'HTC-1-M7', 'HTC-1-M7', 'iPhone-4s', 'HTC-1-M7', 'Motorola-X', 'HTC-1-M7', 'HTC-1-M7', 'Motorola-X', 'HTC-1-M7', 'Motorola-X', 'iPhone-4s', 'iPhone-4s', 'HTC-1-M7', 'HTC-1-M7', 'HTC-1-M7', 'HTC-1-M7', 'iPhone-4s', 'LG-Nexus-5x', 'HTC-1-M7', 'iPhone-4s', 'HTC-1-M7', 'HTC-1-M7', 'HTC-1-M7', 'HTC-1-M7', 'iPhone-4s', 'iPhone-4s', 'HTC-1-M7', 'HTC-1-M7', 'HTC-1-M7', 'HTC-1-M7', 'HTC-1-M7', 'HTC-1-M7', 'HTC-1-M7', 'iPhone-4s', 'HTC-1-M7', 'HTC-1-M7', 'iPhone-4s', 'HTC-1-M7', 'iPhone-4s', 'HTC-1-M7', 'HTC-1-M7', 'HTC-1-M7', 'HTC-1-M7', 'HTC-1-M7', 'iPhone-4s', 'iPhone-4s', 'iPhone-4s', 'HTC-1-M7', 'HTC-1-M7', 'HTC-1-M7', 'HTC-1-M7', 'HTC-1-M7', 'HTC-1-M7', 'HTC-1-M7', 'HTC-1-M7', 'HTC-1-M7', 'HTC-1-M7', 'HTC-1-M7', 'HTC-1-M7', 'HTC-1-M7', 'HTC-1-M7', 'HTC-1-M7', 'HTC-1-M7', 'Motorola-X', 'HTC-1-M7', 'HTC-1-M7', 'HTC-1-M7', 'HTC-1-M7', 'iPhone-4s', 'HTC-1-M7', 'HTC-1-M7', 'HTC-1-M7', 'HTC-1-M7', 'HTC-1-M7', 'HTC-1-M7', 'iPhone-4s', 'Motorola-X', 'Sony-NEX-7', 'iPhone-4s', 'Motorola-Nexus-6', 'HTC-1-M7', 'HTC-1-M7', 'HTC-1-M7', 'Motorola-X', 'HTC-1-M7', 'HTC-1-M7', 'iPhone-4s', 'HTC-1-M7', 'HTC-1-M7', 'LG-Nexus-5x', 'HTC-1-M7', 'HTC-1-M7', 'HTC-1-M7', 'HTC-1-M7', 'iPhone-4s', 'HTC-1-M7', 'Motorola-X', 'HTC-1-M7', 'Motorola-X', 'HTC-1-M7', 'Motorola-X', 'HTC-1-M7', 'HTC-1-M7', 'HTC-1-M7', 'HTC-1-M7', 'HTC-1-M7', 'Motorola-X', 'iPhone-4s', 'Motorola-X', 'HTC-1-M7', 'Motorola-X', 'HTC-1-M7', 'iPhone-4s', 'Motorola-X', 'HTC-1-M7', 'iPhone-4s', 'HTC-1-M7', 'iPhone-4s', 'iPhone-4s', 'HTC-1-M7', 'iPhone-4s', 'HTC-1-M7', 'HTC-1-M7', 'iPhone-4s', 'iPhone-4s', 'iPhone-4s', 'HTC-1-M7', 'iPhone-4s', 'HTC-1-M7', 'HTC-1-M7', 'HTC-1-M7', 'HTC-1-M7', 'iPhone-4s', 'HTC-1-M7', 'HTC-1-M7', 'LG-Nexus-5x', 'HTC-1-M7', 'HTC-1-M7', 'HTC-1-M7', 'iPhone-4s', 'HTC-1-M7', 'iPhone-4s', 'HTC-1-M7', 'HTC-1-M7', 'HTC-1-M7', 'HTC-1-M7', 'iPhone-4s', 'HTC-1-M7', 'HTC-1-M7', 'HTC-1-M7', 'HTC-1-M7', 'HTC-1-M7', 'iPhone-4s', 'HTC-1-M7', 'LG-Nexus-5x', 'Motorola-X', 'iPhone-4s', 'Motorola-X', 'iPhone-4s', 'HTC-1-M7', 'iPhone-4s', 'HTC-1-M7', 'HTC-1-M7', 'HTC-1-M7', 'HTC-1-M7', 'Motorola-X', 'HTC-1-M7', 'HTC-1-M7', 'Sony-NEX-7', 'HTC-1-M7', 'HTC-1-M7', 'HTC-1-M7', 'HTC-1-M7', 'HTC-1-M7', 'HTC-1-M7', 'iPhone-4s', 'iPhone-4s', 'HTC-1-M7', 'HTC-1-M7', 'HTC-1-M7', 'HTC-1-M7', 'HTC-1-M7', 'HTC-1-M7', 'HTC-1-M7', 'HTC-1-M7', 'HTC-1-M7', 'iPhone-4s', 'HTC-1-M7', 'Motorola-Nexus-6', 'iPhone-4s', 'HTC-1-M7', 'HTC-1-M7', 'HTC-1-M7', 'HTC-1-M7', 'HTC-1-M7', 'HTC-1-M7', 'HTC-1-M7', 'HTC-1-M7', 'HTC-1-M7', 'HTC-1-M7', 'HTC-1-M7', 'HTC-1-M7', 'HTC-1-M7', 'HTC-1-M7', 'HTC-1-M7', 'HTC-1-M7', 'HTC-1-M7', 'Motorola-X', 'iPhone-4s', 'HTC-1-M7', 'HTC-1-M7', 'HTC-1-M7', 'HTC-1-M7', 'HTC-1-M7', 'HTC-1-M7', 'HTC-1-M7', 'HTC-1-M7', 'HTC-1-M7', 'iPhone-4s', 'HTC-1-M7', 'HTC-1-M7', 'HTC-1-M7', 'HTC-1-M7', 'HTC-1-M7', 'HTC-1-M7', 'HTC-1-M7', 'LG-Nexus-5x', 'HTC-1-M7', 'HTC-1-M7', 'Motorola-X', 'HTC-1-M7', 'HTC-1-M7', 'HTC-1-M7', 'HTC-1-M7', 'iPhone-4s', 'HTC-1-M7', 'HTC-1-M7', 'iPhone-4s', 'LG-Nexus-5x', 'iPhone-4s', 'Motorola-X', 'HTC-1-M7', 'Motorola-X', 'HTC-1-M7', 'HTC-1-M7', 'iPhone-4s', 'HTC-1-M7', 'HTC-1-M7', 'HTC-1-M7', 'HTC-1-M7', 'HTC-1-M7', 'LG-Nexus-5x', 'HTC-1-M7', 'HTC-1-M7', 'HTC-1-M7', 'iPhone-4s', 'HTC-1-M7', 'HTC-1-M7', 'Motorola-X', 'LG-Nexus-5x', 'HTC-1-M7', 'HTC-1-M7', 'HTC-1-M7', 'iPhone-4s', 'iPhone-4s', 'iPhone-4s', 'Motorola-X', 'HTC-1-M7', 'HTC-1-M7', 'LG-Nexus-5x', 'HTC-1-M7', 'HTC-1-M7', 'LG-Nexus-5x', 'HTC-1-M7', 'HTC-1-M7', 'HTC-1-M7', 'iPhone-4s', 'HTC-1-M7', 'HTC-1-M7', 'HTC-1-M7', 'HTC-1-M7', 'Motorola-X', 'HTC-1-M7', 'HTC-1-M7', 'iPhone-4s', 'HTC-1-M7', 'HTC-1-M7', 'HTC-1-M7', 'HTC-1-M7', 'HTC-1-M7', 'HTC-1-M7', 'HTC-1-M7', 'HTC-1-M7', 'HTC-1-M7', 'HTC-1-M7', 'HTC-1-M7', 'iPhone-4s', 'HTC-1-M7', 'Motorola-X', 'HTC-1-M7', 'HTC-1-M7', 'HTC-1-M7', 'iPhone-4s', 'HTC-1-M7', 'iPhone-4s', 'HTC-1-M7', 'HTC-1-M7', 'HTC-1-M7', 'HTC-1-M7', 'iPhone-4s', 'iPhone-4s', 'HTC-1-M7', 'HTC-1-M7', 'iPhone-4s', 'iPhone-4s', 'HTC-1-M7', 'LG-Nexus-5x', 'HTC-1-M7', 'iPhone-4s', 'HTC-1-M7', 'HTC-1-M7', 'HTC-1-M7', 'HTC-1-M7', 'iPhone-4s', 'HTC-1-M7', 'HTC-1-M7', 'Motorola-X', 'HTC-1-M7', 'HTC-1-M7', 'HTC-1-M7', 'Motorola-X', 'Motorola-X', 'Motorola-Nexus-6', 'iPhone-4s', 'iPhone-4s', 'HTC-1-M7', 'LG-Nexus-5x', 'HTC-1-M7', 'HTC-1-M7', 'HTC-1-M7', 'HTC-1-M7', 'HTC-1-M7', 'HTC-1-M7', 'HTC-1-M7', 'HTC-1-M7', 'HTC-1-M7', 'HTC-1-M7', 'HTC-1-M7', 'HTC-1-M7', 'HTC-1-M7', 'HTC-1-M7', 'HTC-1-M7', 'HTC-1-M7', 'HTC-1-M7', 'iPhone-4s', 'LG-Nexus-5x', 'HTC-1-M7', 'HTC-1-M7', 'iPhone-4s', 'iPhone-4s', 'HTC-1-M7', 'LG-Nexus-5x', 'HTC-1-M7', 'HTC-1-M7', 'iPhone-4s', 'HTC-1-M7', 'HTC-1-M7', 'LG-Nexus-5x', 'HTC-1-M7', 'HTC-1-M7', 'iPhone-4s', 'iPhone-4s', 'HTC-1-M7', 'HTC-1-M7', 'LG-Nexus-5x', 'HTC-1-M7', 'HTC-1-M7', 'HTC-1-M7', 'HTC-1-M7', 'iPhone-4s', 'iPhone-4s', 'iPhone-4s', 'HTC-1-M7', 'HTC-1-M7', 'iPhone-4s', 'Motorola-X', 'iPhone-4s', 'Motorola-X', 'HTC-1-M7', 'LG-Nexus-5x', 'HTC-1-M7', 'iPhone-4s', 'LG-Nexus-5x', 'HTC-1-M7', 'HTC-1-M7', 'HTC-1-M7', 'Motorola-X', 'iPhone-4s', 'HTC-1-M7', 'HTC-1-M7', 'HTC-1-M7', 'HTC-1-M7', 'HTC-1-M7', 'iPhone-4s', 'HTC-1-M7', 'HTC-1-M7', 'HTC-1-M7', 'HTC-1-M7', 'HTC-1-M7', 'HTC-1-M7', 'iPhone-4s', 'HTC-1-M7', 'HTC-1-M7', 'HTC-1-M7', 'HTC-1-M7', 'HTC-1-M7', 'LG-Nexus-5x', 'iPhone-4s', 'iPhone-4s', 'iPhone-4s', 'HTC-1-M7', 'HTC-1-M7', 'HTC-1-M7', 'Motorola-X', 'LG-Nexus-5x', 'HTC-1-M7', 'HTC-1-M7', 'Motorola-X', 'LG-Nexus-5x', 'HTC-1-M7', 'LG-Nexus-5x', 'HTC-1-M7', 'HTC-1-M7', 'iPhone-4s', 'Motorola-X', 'HTC-1-M7', 'HTC-1-M7', 'iPhone-4s', 'iPhone-4s', 'HTC-1-M7', 'HTC-1-M7', 'HTC-1-M7', 'iPhone-4s', 'HTC-1-M7', 'HTC-1-M7', 'Motorola-X', 'HTC-1-M7', 'HTC-1-M7', 'HTC-1-M7', 'HTC-1-M7', 'HTC-1-M7', 'HTC-1-M7', 'iPhone-4s', 'Motorola-X', 'iPhone-4s', 'LG-Nexus-5x', 'HTC-1-M7', 'HTC-1-M7', 'Motorola-X', 'HTC-1-M7', 'HTC-1-M7', 'HTC-1-M7', 'Motorola-X', 'HTC-1-M7', 'HTC-1-M7', 'iPhone-4s', 'iPhone-4s', 'iPhone-4s', 'iPhone-4s', 'HTC-1-M7', 'HTC-1-M7', 'HTC-1-M7', 'iPhone-4s', 'HTC-1-M7', 'Sony-NEX-7', 'iPhone-4s', 'HTC-1-M7', 'HTC-1-M7', 'HTC-1-M7', 'HTC-1-M7', 'HTC-1-M7', 'HTC-1-M7', 'HTC-1-M7', 'HTC-1-M7', 'HTC-1-M7', 'HTC-1-M7', 'LG-Nexus-5x', 'Motorola-X', 'HTC-1-M7', 'Motorola-X', 'HTC-1-M7', 'HTC-1-M7', 'Motorola-Nexus-6', 'Motorola-X', 'HTC-1-M7', 'LG-Nexus-5x', 'iPhone-4s', 'Sony-NEX-7', 'LG-Nexus-5x', 'HTC-1-M7', 'Sony-NEX-7', 'HTC-1-M7', 'HTC-1-M7', 'Motorola-X', 'iPhone-4s', 'HTC-1-M7', 'iPhone-4s', 'HTC-1-M7', 'HTC-1-M7', 'HTC-1-M7', 'Motorola-X', 'iPhone-4s', 'HTC-1-M7', 'HTC-1-M7', 'HTC-1-M7', 'HTC-1-M7', 'HTC-1-M7', 'HTC-1-M7', 'HTC-1-M7', 'iPhone-4s', 'iPhone-4s', 'HTC-1-M7', 'HTC-1-M7', 'HTC-1-M7', 'HTC-1-M7', 'iPhone-4s', 'Motorola-X', 'HTC-1-M7', 'iPhone-4s', 'iPhone-4s', 'HTC-1-M7', 'HTC-1-M7', 'HTC-1-M7', 'HTC-1-M7', 'HTC-1-M7', 'Motorola-X', 'iPhone-4s', 'HTC-1-M7', 'iPhone-4s', 'HTC-1-M7', 'HTC-1-M7', 'HTC-1-M7', 'iPhone-4s', 'LG-Nexus-5x', 'HTC-1-M7', 'iPhone-4s', 'iPhone-4s', 'HTC-1-M7', 'iPhone-4s', 'iPhone-4s', 'iPhone-4s', 'HTC-1-M7', 'HTC-1-M7', 'HTC-1-M7', 'HTC-1-M7', 'HTC-1-M7', 'HTC-1-M7', 'HTC-1-M7', 'HTC-1-M7', 'HTC-1-M7', 'iPhone-4s', 'HTC-1-M7', 'iPhone-4s', 'HTC-1-M7', 'Motorola-X', 'HTC-1-M7', 'HTC-1-M7', 'HTC-1-M7', 'LG-Nexus-5x', 'HTC-1-M7', 'HTC-1-M7', 'HTC-1-M7', 'iPhone-4s', 'HTC-1-M7', 'LG-Nexus-5x', 'HTC-1-M7', 'HTC-1-M7', 'iPhone-4s', 'HTC-1-M7', 'iPhone-4s', 'iPhone-4s', 'iPhone-4s', 'HTC-1-M7', 'HTC-1-M7', 'Sony-NEX-7', 'HTC-1-M7', 'Motorola-X', 'HTC-1-M7', 'HTC-1-M7', 'HTC-1-M7', 'HTC-1-M7', 'HTC-1-M7', 'iPhone-4s', 'HTC-1-M7', 'HTC-1-M7', 'HTC-1-M7', 'HTC-1-M7', 'HTC-1-M7', 'HTC-1-M7', 'HTC-1-M7', 'HTC-1-M7', 'iPhone-4s', 'HTC-1-M7', 'HTC-1-M7', 'iPhone-4s', 'iPhone-4s', 'HTC-1-M7', 'HTC-1-M7', 'HTC-1-M7', 'HTC-1-M7', 'iPhone-4s', 'HTC-1-M7', 'HTC-1-M7', 'HTC-1-M7', 'HTC-1-M7', 'HTC-1-M7', 'HTC-1-M7', 'HTC-1-M7', 'HTC-1-M7', 'HTC-1-M7', 'iPhone-4s']\n"
     ]
    }
   ],
   "source": [
    "print predict"
   ]
  },
  {
   "cell_type": "markdown",
   "metadata": {},
   "source": [
    "Submit to csv"
   ]
  },
  {
   "cell_type": "code",
   "execution_count": 35,
   "metadata": {},
   "outputs": [],
   "source": [
    "df = pd.DataFrame(columns=['fname', 'camera'])\n",
    "df[\"fname\"] = ids\n",
    "df[\"camera\"] = predict\n"
   ]
  },
  {
   "cell_type": "code",
   "execution_count": 36,
   "metadata": {},
   "outputs": [
    {
     "data": {
      "text/html": [
       "<div>\n",
       "<style>\n",
       "    .dataframe thead tr:only-child th {\n",
       "        text-align: right;\n",
       "    }\n",
       "\n",
       "    .dataframe thead th {\n",
       "        text-align: left;\n",
       "    }\n",
       "\n",
       "    .dataframe tbody tr th {\n",
       "        vertical-align: top;\n",
       "    }\n",
       "</style>\n",
       "<table border=\"1\" class=\"dataframe\">\n",
       "  <thead>\n",
       "    <tr style=\"text-align: right;\">\n",
       "      <th></th>\n",
       "      <th>fname</th>\n",
       "      <th>camera</th>\n",
       "    </tr>\n",
       "  </thead>\n",
       "  <tbody>\n",
       "    <tr>\n",
       "      <th>0</th>\n",
       "      <td>img_00d0e3b_unalt.tif</td>\n",
       "      <td>HTC-1-M7</td>\n",
       "    </tr>\n",
       "    <tr>\n",
       "      <th>1</th>\n",
       "      <td>img_c6839e4_manip.tif</td>\n",
       "      <td>HTC-1-M7</td>\n",
       "    </tr>\n",
       "    <tr>\n",
       "      <th>2</th>\n",
       "      <td>img_b25b81e_unalt.tif</td>\n",
       "      <td>Sony-NEX-7</td>\n",
       "    </tr>\n",
       "    <tr>\n",
       "      <th>3</th>\n",
       "      <td>img_c944786_manip.tif</td>\n",
       "      <td>HTC-1-M7</td>\n",
       "    </tr>\n",
       "    <tr>\n",
       "      <th>4</th>\n",
       "      <td>img_2cc6262_unalt.tif</td>\n",
       "      <td>iPhone-4s</td>\n",
       "    </tr>\n",
       "    <tr>\n",
       "      <th>5</th>\n",
       "      <td>img_31ec479_manip.tif</td>\n",
       "      <td>HTC-1-M7</td>\n",
       "    </tr>\n",
       "    <tr>\n",
       "      <th>6</th>\n",
       "      <td>img_2afa619_unalt.tif</td>\n",
       "      <td>iPhone-4s</td>\n",
       "    </tr>\n",
       "    <tr>\n",
       "      <th>7</th>\n",
       "      <td>img_60fa981_manip.tif</td>\n",
       "      <td>HTC-1-M7</td>\n",
       "    </tr>\n",
       "    <tr>\n",
       "      <th>8</th>\n",
       "      <td>img_dce2359_manip.tif</td>\n",
       "      <td>Motorola-X</td>\n",
       "    </tr>\n",
       "    <tr>\n",
       "      <th>9</th>\n",
       "      <td>img_ad161ee_unalt.tif</td>\n",
       "      <td>HTC-1-M7</td>\n",
       "    </tr>\n",
       "    <tr>\n",
       "      <th>10</th>\n",
       "      <td>img_c6f7f06_manip.tif</td>\n",
       "      <td>HTC-1-M7</td>\n",
       "    </tr>\n",
       "    <tr>\n",
       "      <th>11</th>\n",
       "      <td>img_714f4c6_unalt.tif</td>\n",
       "      <td>Samsung-Galaxy-Note3</td>\n",
       "    </tr>\n",
       "    <tr>\n",
       "      <th>12</th>\n",
       "      <td>img_15d5fdb_unalt.tif</td>\n",
       "      <td>HTC-1-M7</td>\n",
       "    </tr>\n",
       "    <tr>\n",
       "      <th>13</th>\n",
       "      <td>img_4a1f37a_manip.tif</td>\n",
       "      <td>iPhone-4s</td>\n",
       "    </tr>\n",
       "    <tr>\n",
       "      <th>14</th>\n",
       "      <td>img_4e575d4_unalt.tif</td>\n",
       "      <td>HTC-1-M7</td>\n",
       "    </tr>\n",
       "    <tr>\n",
       "      <th>15</th>\n",
       "      <td>img_f2d7ab9_unalt.tif</td>\n",
       "      <td>iPhone-4s</td>\n",
       "    </tr>\n",
       "    <tr>\n",
       "      <th>16</th>\n",
       "      <td>img_9967758_unalt.tif</td>\n",
       "      <td>HTC-1-M7</td>\n",
       "    </tr>\n",
       "    <tr>\n",
       "      <th>17</th>\n",
       "      <td>img_809c0ad_unalt.tif</td>\n",
       "      <td>HTC-1-M7</td>\n",
       "    </tr>\n",
       "    <tr>\n",
       "      <th>18</th>\n",
       "      <td>img_efaeac7_manip.tif</td>\n",
       "      <td>HTC-1-M7</td>\n",
       "    </tr>\n",
       "    <tr>\n",
       "      <th>19</th>\n",
       "      <td>img_4b25b5e_unalt.tif</td>\n",
       "      <td>HTC-1-M7</td>\n",
       "    </tr>\n",
       "    <tr>\n",
       "      <th>20</th>\n",
       "      <td>img_421031a_unalt.tif</td>\n",
       "      <td>HTC-1-M7</td>\n",
       "    </tr>\n",
       "    <tr>\n",
       "      <th>21</th>\n",
       "      <td>img_2077320_manip.tif</td>\n",
       "      <td>HTC-1-M7</td>\n",
       "    </tr>\n",
       "    <tr>\n",
       "      <th>22</th>\n",
       "      <td>img_389f321_manip.tif</td>\n",
       "      <td>HTC-1-M7</td>\n",
       "    </tr>\n",
       "    <tr>\n",
       "      <th>23</th>\n",
       "      <td>img_1c743ca_unalt.tif</td>\n",
       "      <td>iPhone-4s</td>\n",
       "    </tr>\n",
       "    <tr>\n",
       "      <th>24</th>\n",
       "      <td>img_90a147f_unalt.tif</td>\n",
       "      <td>iPhone-4s</td>\n",
       "    </tr>\n",
       "    <tr>\n",
       "      <th>25</th>\n",
       "      <td>img_f38cfe6_manip.tif</td>\n",
       "      <td>HTC-1-M7</td>\n",
       "    </tr>\n",
       "    <tr>\n",
       "      <th>26</th>\n",
       "      <td>img_ea8864a_manip.tif</td>\n",
       "      <td>HTC-1-M7</td>\n",
       "    </tr>\n",
       "    <tr>\n",
       "      <th>27</th>\n",
       "      <td>img_9e8b030_manip.tif</td>\n",
       "      <td>HTC-1-M7</td>\n",
       "    </tr>\n",
       "    <tr>\n",
       "      <th>28</th>\n",
       "      <td>img_a3b2903_manip.tif</td>\n",
       "      <td>iPhone-4s</td>\n",
       "    </tr>\n",
       "    <tr>\n",
       "      <th>29</th>\n",
       "      <td>img_476a6f2_manip.tif</td>\n",
       "      <td>iPhone-4s</td>\n",
       "    </tr>\n",
       "    <tr>\n",
       "      <th>...</th>\n",
       "      <td>...</td>\n",
       "      <td>...</td>\n",
       "    </tr>\n",
       "    <tr>\n",
       "      <th>2610</th>\n",
       "      <td>img_1643b5d_manip.tif</td>\n",
       "      <td>HTC-1-M7</td>\n",
       "    </tr>\n",
       "    <tr>\n",
       "      <th>2611</th>\n",
       "      <td>img_b039656_manip.tif</td>\n",
       "      <td>iPhone-4s</td>\n",
       "    </tr>\n",
       "    <tr>\n",
       "      <th>2612</th>\n",
       "      <td>img_31da1c8_unalt.tif</td>\n",
       "      <td>HTC-1-M7</td>\n",
       "    </tr>\n",
       "    <tr>\n",
       "      <th>2613</th>\n",
       "      <td>img_1420620_unalt.tif</td>\n",
       "      <td>HTC-1-M7</td>\n",
       "    </tr>\n",
       "    <tr>\n",
       "      <th>2614</th>\n",
       "      <td>img_16eedad_unalt.tif</td>\n",
       "      <td>HTC-1-M7</td>\n",
       "    </tr>\n",
       "    <tr>\n",
       "      <th>2615</th>\n",
       "      <td>img_fea904a_manip.tif</td>\n",
       "      <td>HTC-1-M7</td>\n",
       "    </tr>\n",
       "    <tr>\n",
       "      <th>2616</th>\n",
       "      <td>img_4df3673_manip.tif</td>\n",
       "      <td>HTC-1-M7</td>\n",
       "    </tr>\n",
       "    <tr>\n",
       "      <th>2617</th>\n",
       "      <td>img_84ba43d_unalt.tif</td>\n",
       "      <td>HTC-1-M7</td>\n",
       "    </tr>\n",
       "    <tr>\n",
       "      <th>2618</th>\n",
       "      <td>img_27aba64_unalt.tif</td>\n",
       "      <td>HTC-1-M7</td>\n",
       "    </tr>\n",
       "    <tr>\n",
       "      <th>2619</th>\n",
       "      <td>img_fb8d0ae_manip.tif</td>\n",
       "      <td>HTC-1-M7</td>\n",
       "    </tr>\n",
       "    <tr>\n",
       "      <th>2620</th>\n",
       "      <td>img_fd031b9_manip.tif</td>\n",
       "      <td>iPhone-4s</td>\n",
       "    </tr>\n",
       "    <tr>\n",
       "      <th>2621</th>\n",
       "      <td>img_903649a_manip.tif</td>\n",
       "      <td>HTC-1-M7</td>\n",
       "    </tr>\n",
       "    <tr>\n",
       "      <th>2622</th>\n",
       "      <td>img_60e9e3a_unalt.tif</td>\n",
       "      <td>HTC-1-M7</td>\n",
       "    </tr>\n",
       "    <tr>\n",
       "      <th>2623</th>\n",
       "      <td>img_8b06202_manip.tif</td>\n",
       "      <td>iPhone-4s</td>\n",
       "    </tr>\n",
       "    <tr>\n",
       "      <th>2624</th>\n",
       "      <td>img_6504ef3_unalt.tif</td>\n",
       "      <td>iPhone-4s</td>\n",
       "    </tr>\n",
       "    <tr>\n",
       "      <th>2625</th>\n",
       "      <td>img_994a5ed_unalt.tif</td>\n",
       "      <td>HTC-1-M7</td>\n",
       "    </tr>\n",
       "    <tr>\n",
       "      <th>2626</th>\n",
       "      <td>img_4ede096_manip.tif</td>\n",
       "      <td>HTC-1-M7</td>\n",
       "    </tr>\n",
       "    <tr>\n",
       "      <th>2627</th>\n",
       "      <td>img_213468b_manip.tif</td>\n",
       "      <td>HTC-1-M7</td>\n",
       "    </tr>\n",
       "    <tr>\n",
       "      <th>2628</th>\n",
       "      <td>img_2fe8e1f_manip.tif</td>\n",
       "      <td>HTC-1-M7</td>\n",
       "    </tr>\n",
       "    <tr>\n",
       "      <th>2629</th>\n",
       "      <td>img_14835b5_manip.tif</td>\n",
       "      <td>iPhone-4s</td>\n",
       "    </tr>\n",
       "    <tr>\n",
       "      <th>2630</th>\n",
       "      <td>img_d68b4b5_unalt.tif</td>\n",
       "      <td>HTC-1-M7</td>\n",
       "    </tr>\n",
       "    <tr>\n",
       "      <th>2631</th>\n",
       "      <td>img_4215e85_unalt.tif</td>\n",
       "      <td>HTC-1-M7</td>\n",
       "    </tr>\n",
       "    <tr>\n",
       "      <th>2632</th>\n",
       "      <td>img_fb0ecd8_unalt.tif</td>\n",
       "      <td>HTC-1-M7</td>\n",
       "    </tr>\n",
       "    <tr>\n",
       "      <th>2633</th>\n",
       "      <td>img_35328d4_manip.tif</td>\n",
       "      <td>HTC-1-M7</td>\n",
       "    </tr>\n",
       "    <tr>\n",
       "      <th>2634</th>\n",
       "      <td>img_d5cad73_unalt.tif</td>\n",
       "      <td>HTC-1-M7</td>\n",
       "    </tr>\n",
       "    <tr>\n",
       "      <th>2635</th>\n",
       "      <td>img_113ace5_unalt.tif</td>\n",
       "      <td>HTC-1-M7</td>\n",
       "    </tr>\n",
       "    <tr>\n",
       "      <th>2636</th>\n",
       "      <td>img_715c07a_unalt.tif</td>\n",
       "      <td>HTC-1-M7</td>\n",
       "    </tr>\n",
       "    <tr>\n",
       "      <th>2637</th>\n",
       "      <td>img_510d5b7_unalt.tif</td>\n",
       "      <td>HTC-1-M7</td>\n",
       "    </tr>\n",
       "    <tr>\n",
       "      <th>2638</th>\n",
       "      <td>img_083c983_unalt.tif</td>\n",
       "      <td>HTC-1-M7</td>\n",
       "    </tr>\n",
       "    <tr>\n",
       "      <th>2639</th>\n",
       "      <td>img_8a9dce9_manip.tif</td>\n",
       "      <td>iPhone-4s</td>\n",
       "    </tr>\n",
       "  </tbody>\n",
       "</table>\n",
       "<p>2640 rows × 2 columns</p>\n",
       "</div>"
      ],
      "text/plain": [
       "                      fname                camera\n",
       "0     img_00d0e3b_unalt.tif              HTC-1-M7\n",
       "1     img_c6839e4_manip.tif              HTC-1-M7\n",
       "2     img_b25b81e_unalt.tif            Sony-NEX-7\n",
       "3     img_c944786_manip.tif              HTC-1-M7\n",
       "4     img_2cc6262_unalt.tif             iPhone-4s\n",
       "5     img_31ec479_manip.tif              HTC-1-M7\n",
       "6     img_2afa619_unalt.tif             iPhone-4s\n",
       "7     img_60fa981_manip.tif              HTC-1-M7\n",
       "8     img_dce2359_manip.tif            Motorola-X\n",
       "9     img_ad161ee_unalt.tif              HTC-1-M7\n",
       "10    img_c6f7f06_manip.tif              HTC-1-M7\n",
       "11    img_714f4c6_unalt.tif  Samsung-Galaxy-Note3\n",
       "12    img_15d5fdb_unalt.tif              HTC-1-M7\n",
       "13    img_4a1f37a_manip.tif             iPhone-4s\n",
       "14    img_4e575d4_unalt.tif              HTC-1-M7\n",
       "15    img_f2d7ab9_unalt.tif             iPhone-4s\n",
       "16    img_9967758_unalt.tif              HTC-1-M7\n",
       "17    img_809c0ad_unalt.tif              HTC-1-M7\n",
       "18    img_efaeac7_manip.tif              HTC-1-M7\n",
       "19    img_4b25b5e_unalt.tif              HTC-1-M7\n",
       "20    img_421031a_unalt.tif              HTC-1-M7\n",
       "21    img_2077320_manip.tif              HTC-1-M7\n",
       "22    img_389f321_manip.tif              HTC-1-M7\n",
       "23    img_1c743ca_unalt.tif             iPhone-4s\n",
       "24    img_90a147f_unalt.tif             iPhone-4s\n",
       "25    img_f38cfe6_manip.tif              HTC-1-M7\n",
       "26    img_ea8864a_manip.tif              HTC-1-M7\n",
       "27    img_9e8b030_manip.tif              HTC-1-M7\n",
       "28    img_a3b2903_manip.tif             iPhone-4s\n",
       "29    img_476a6f2_manip.tif             iPhone-4s\n",
       "...                     ...                   ...\n",
       "2610  img_1643b5d_manip.tif              HTC-1-M7\n",
       "2611  img_b039656_manip.tif             iPhone-4s\n",
       "2612  img_31da1c8_unalt.tif              HTC-1-M7\n",
       "2613  img_1420620_unalt.tif              HTC-1-M7\n",
       "2614  img_16eedad_unalt.tif              HTC-1-M7\n",
       "2615  img_fea904a_manip.tif              HTC-1-M7\n",
       "2616  img_4df3673_manip.tif              HTC-1-M7\n",
       "2617  img_84ba43d_unalt.tif              HTC-1-M7\n",
       "2618  img_27aba64_unalt.tif              HTC-1-M7\n",
       "2619  img_fb8d0ae_manip.tif              HTC-1-M7\n",
       "2620  img_fd031b9_manip.tif             iPhone-4s\n",
       "2621  img_903649a_manip.tif              HTC-1-M7\n",
       "2622  img_60e9e3a_unalt.tif              HTC-1-M7\n",
       "2623  img_8b06202_manip.tif             iPhone-4s\n",
       "2624  img_6504ef3_unalt.tif             iPhone-4s\n",
       "2625  img_994a5ed_unalt.tif              HTC-1-M7\n",
       "2626  img_4ede096_manip.tif              HTC-1-M7\n",
       "2627  img_213468b_manip.tif              HTC-1-M7\n",
       "2628  img_2fe8e1f_manip.tif              HTC-1-M7\n",
       "2629  img_14835b5_manip.tif             iPhone-4s\n",
       "2630  img_d68b4b5_unalt.tif              HTC-1-M7\n",
       "2631  img_4215e85_unalt.tif              HTC-1-M7\n",
       "2632  img_fb0ecd8_unalt.tif              HTC-1-M7\n",
       "2633  img_35328d4_manip.tif              HTC-1-M7\n",
       "2634  img_d5cad73_unalt.tif              HTC-1-M7\n",
       "2635  img_113ace5_unalt.tif              HTC-1-M7\n",
       "2636  img_715c07a_unalt.tif              HTC-1-M7\n",
       "2637  img_510d5b7_unalt.tif              HTC-1-M7\n",
       "2638  img_083c983_unalt.tif              HTC-1-M7\n",
       "2639  img_8a9dce9_manip.tif             iPhone-4s\n",
       "\n",
       "[2640 rows x 2 columns]"
      ]
     },
     "execution_count": 36,
     "metadata": {},
     "output_type": "execute_result"
    }
   ],
   "source": [
    "df"
   ]
  },
  {
   "cell_type": "code",
   "execution_count": 38,
   "metadata": {},
   "outputs": [],
   "source": [
    "df.to_csv(\"data/submissions/3channelconvnet.csv\", index=False)"
   ]
  }
 ],
 "metadata": {
  "kernelspec": {
   "display_name": "Python 2",
   "language": "python",
   "name": "python2"
  },
  "language_info": {
   "codemirror_mode": {
    "name": "ipython",
    "version": 2
   },
   "file_extension": ".py",
   "mimetype": "text/x-python",
   "name": "python",
   "nbconvert_exporter": "python",
   "pygments_lexer": "ipython2",
   "version": "2.7.14"
  }
 },
 "nbformat": 4,
 "nbformat_minor": 2
}
